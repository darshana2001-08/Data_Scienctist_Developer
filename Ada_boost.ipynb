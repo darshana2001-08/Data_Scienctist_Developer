{
  "nbformat": 4,
  "nbformat_minor": 0,
  "metadata": {
    "colab": {
      "provenance": []
    },
    "kernelspec": {
      "name": "python3",
      "display_name": "Python 3"
    },
    "language_info": {
      "name": "python"
    }
  },
  "cells": [
    {
      "cell_type": "markdown",
      "source": [
        "**Python implementation of AdaBoost**"
      ],
      "metadata": {
        "id": "8mWkmu12yyF7"
      }
    },
    {
      "cell_type": "code",
      "source": [
        "#import libraries\n",
        "import pandas as pd\n",
        "import numpy as np\n",
        "from sklearn.model_selection import train_test_split\n",
        "from sklearn.ensemble import AdaBoostClassifier\n",
        "import warnings\n",
        "warnings.filterwarnings(\"ignore\")\n"
      ],
      "metadata": {
        "id": "beM4axXKy2wT"
      },
      "execution_count": null,
      "outputs": []
    },
    {
      "cell_type": "code",
      "source": [
        "# Import necessary libraries\n",
        "\n",
        "from sklearn.ensemble import RandomForestClassifier\n",
        "\n",
        "from sklearn.datasets import load_iris\n",
        "\n",
        "from sklearn.model_selection import train_test_split\n",
        "\n",
        "from sklearn.metrics import accuracy_score\n",
        "\n",
        "# Load dataset\n",
        "\n",
        "iris = load_iris()\n",
        "# Create a DataFrame from the data\n",
        "df = pd.DataFrame(data=iris.data, columns=iris.feature_names)\n",
        "df['target'] = iris.target\n",
        "\n",
        "# Display the DataFrame\n",
        "print(df)\n"
      ],
      "metadata": {
        "colab": {
          "base_uri": "https://localhost:8080/"
        },
        "id": "kMykAjPny_d8",
        "outputId": "5e6fdb70-db96-4bd1-e209-17168d984a45"
      },
      "execution_count": null,
      "outputs": [
        {
          "output_type": "stream",
          "name": "stdout",
          "text": [
            "     sepal length (cm)  sepal width (cm)  petal length (cm)  petal width (cm)  \\\n",
            "0                  5.1               3.5                1.4               0.2   \n",
            "1                  4.9               3.0                1.4               0.2   \n",
            "2                  4.7               3.2                1.3               0.2   \n",
            "3                  4.6               3.1                1.5               0.2   \n",
            "4                  5.0               3.6                1.4               0.2   \n",
            "..                 ...               ...                ...               ...   \n",
            "145                6.7               3.0                5.2               2.3   \n",
            "146                6.3               2.5                5.0               1.9   \n",
            "147                6.5               3.0                5.2               2.0   \n",
            "148                6.2               3.4                5.4               2.3   \n",
            "149                5.9               3.0                5.1               1.8   \n",
            "\n",
            "     target  \n",
            "0         0  \n",
            "1         0  \n",
            "2         0  \n",
            "3         0  \n",
            "4         0  \n",
            "..      ...  \n",
            "145       2  \n",
            "146       2  \n",
            "147       2  \n",
            "148       2  \n",
            "149       2  \n",
            "\n",
            "[150 rows x 5 columns]\n"
          ]
        }
      ]
    },
    {
      "cell_type": "code",
      "source": [
        "# Printing the shape of the dataset\n",
        "print(df.shape)"
      ],
      "metadata": {
        "colab": {
          "base_uri": "https://localhost:8080/"
        },
        "id": "9qQkug4k0rkg",
        "outputId": "8f4b76c2-704f-42ee-d8af-ef91a99e5b43"
      },
      "execution_count": null,
      "outputs": [
        {
          "output_type": "stream",
          "name": "stdout",
          "text": [
            "(150, 5)\n"
          ]
        }
      ]
    },
    {
      "cell_type": "code",
      "source": [
        "# Remove the Id column if it exists\n",
        "if 'Id' in df.columns:\n",
        "  df = df.drop('Id',axis=1)\n",
        "\n",
        "X = df.iloc[:,:-1]\n",
        "y = df.iloc[:,-1]\n",
        "print(\"Shape of X is %s and shape of y is %s\"%(X.shape,y.shape))\n"
      ],
      "metadata": {
        "colab": {
          "base_uri": "https://localhost:8080/"
        },
        "id": "0hfszb5j04eL",
        "outputId": "1f527c97-b4dd-4fb2-95e2-506354394046"
      },
      "execution_count": null,
      "outputs": [
        {
          "output_type": "stream",
          "name": "stdout",
          "text": [
            "Shape of X is (150, 4) and shape of y is (150,)\n"
          ]
        }
      ]
    },
    {
      "cell_type": "code",
      "source": [
        "total_classes = y.nunique()\n",
        "print(\"Number of unique species in dataset are: \",total_classes)"
      ],
      "metadata": {
        "colab": {
          "base_uri": "https://localhost:8080/"
        },
        "id": "Zi7WMdWS04h3",
        "outputId": "351f61dc-fe6e-4510-8f07-e5258d4ac6e2"
      },
      "execution_count": null,
      "outputs": [
        {
          "output_type": "stream",
          "name": "stdout",
          "text": [
            "Number of unique species in dataset are:  3\n"
          ]
        }
      ]
    },
    {
      "cell_type": "code",
      "source": [
        "\n",
        "# Create a DataFrame with the data and target\n",
        "iris_df = pd.DataFrame(data=iris.data, columns=iris.feature_names)\n",
        "iris_df['species'] = iris.target\n",
        "\n",
        "# Automatically map the target numbers to species names using the target names from the dataset\n",
        "iris_df['species'] = iris_df['species'].map(dict(enumerate(iris.target_names)))\n",
        "\n",
        "# Get the distribution of each species\n",
        "distribution = iris_df['species'].value_counts()\n",
        "\n",
        "# Print the distribution\n",
        "print(distribution)\n"
      ],
      "metadata": {
        "colab": {
          "base_uri": "https://localhost:8080/"
        },
        "id": "n7oSQPST4gpU",
        "outputId": "64e58b66-a9b4-44e0-962b-3e15090d942e"
      },
      "execution_count": null,
      "outputs": [
        {
          "output_type": "stream",
          "name": "stdout",
          "text": [
            "species\n",
            "setosa        50\n",
            "versicolor    50\n",
            "virginica     50\n",
            "Name: count, dtype: int64\n"
          ]
        }
      ]
    },
    {
      "cell_type": "code",
      "source": [
        "X_train, X_val, Y_train, Y_val = train_test_split(\n",
        "    X, y, test_size=0.25, random_state=28)\n"
      ],
      "metadata": {
        "id": "cUCwEwxM5y_L"
      },
      "execution_count": null,
      "outputs": []
    },
    {
      "cell_type": "code",
      "source": [
        "# Creating adaboost classifier model\n",
        "adb = AdaBoostClassifier()\n",
        "adb_model = adb.fit(X_train,Y_train)\n"
      ],
      "metadata": {
        "id": "Qs9oQmVt56GC"
      },
      "execution_count": null,
      "outputs": []
    },
    {
      "cell_type": "code",
      "source": [
        "print(\"The accuracy of the model on validation set is\", adb_model.score(X_val,Y_val))\n"
      ],
      "metadata": {
        "colab": {
          "base_uri": "https://localhost:8080/"
        },
        "id": "K9bSoTZl5-ET",
        "outputId": "9aea8670-c406-46f6-b3e1-8b06c4803120"
      },
      "execution_count": null,
      "outputs": [
        {
          "output_type": "stream",
          "name": "stdout",
          "text": [
            "The accuracy of the model on validation set is 0.9210526315789473\n"
          ]
        }
      ]
    },
    {
      "cell_type": "code",
      "source": [],
      "metadata": {
        "id": "EhgAbUgg6BRK"
      },
      "execution_count": null,
      "outputs": []
    }
  ]
}