{
  "nbformat": 4,
  "nbformat_minor": 0,
  "metadata": {
    "colab": {
      "provenance": []
    },
    "kernelspec": {
      "name": "python3",
      "display_name": "Python 3"
    },
    "language_info": {
      "name": "python"
    },
    "widgets": {
      "application/vnd.jupyter.widget-state+json": {
        "a6b3e6442a6d4ad4a71735baa2949946": {
          "model_module": "catboost-widget",
          "model_name": "CatboostWidgetModel",
          "model_module_version": "^1.0.0",
          "state": {
            "_dom_classes": [],
            "_model_module": "catboost-widget",
            "_model_module_version": "^1.0.0",
            "_model_name": "CatboostWidgetModel",
            "_view_count": null,
            "_view_module": "catboost-widget",
            "_view_module_version": "^1.0.0",
            "_view_name": "CatboostWidgetView",
            "data": {
              "catboost_info": {
                "path": "catboost_info",
                "name": "catboost_info",
                "content": {
                  "passed_iterations": 99,
                  "total_iterations": 100,
                  "data": {
                    "iterations": [
                      {
                        "learn": [
                          0.8427876823,
                          0.6745476217
                        ],
                        "iteration": 0,
                        "passed_time": 0.0005732829962,
                        "remaining_time": 0.05675501662,
                        "test": [
                          0.8428571429,
                          0.6752152998
                        ]
                      },
                      {
                        "learn": [
                          0.8427876823,
                          0.658514232
                        ],
                        "iteration": 1,
                        "passed_time": 0.001545631536,
                        "remaining_time": 0.07573594527,
                        "test": [
                          0.8428571429,
                          0.6594700224
                        ]
                      },
                      {
                        "learn": [
                          0.8427876823,
                          0.644783255
                        ],
                        "iteration": 2,
                        "passed_time": 0.002770846906,
                        "remaining_time": 0.08959071662,
                        "test": [
                          0.8428571429,
                          0.6473097551
                        ]
                      },
                      {
                        "learn": [
                          0.8427876823,
                          0.6321204304
                        ],
                        "iteration": 3,
                        "passed_time": 0.003878888667,
                        "remaining_time": 0.09309332801,
                        "test": [
                          0.8428571429,
                          0.6360879492
                        ]
                      },
                      {
                        "learn": [
                          0.8427876823,
                          0.6213366326
                        ],
                        "iteration": 4,
                        "passed_time": 0.00498087177,
                        "remaining_time": 0.09463656363,
                        "test": [
                          0.8428571429,
                          0.6267269005
                        ]
                      },
                      {
                        "learn": [
                          0.8427876823,
                          0.611292148
                        ],
                        "iteration": 5,
                        "passed_time": 0.005660092424,
                        "remaining_time": 0.08867478132,
                        "test": [
                          0.8428571429,
                          0.6169523349
                        ]
                      },
                      {
                        "learn": [
                          0.8427876823,
                          0.6018403641
                        ],
                        "iteration": 6,
                        "passed_time": 0.006728226313,
                        "remaining_time": 0.08938929245,
                        "test": [
                          0.8428571429,
                          0.6078745635
                        ]
                      },
                      {
                        "learn": [
                          0.8427876823,
                          0.5931411012
                        ],
                        "iteration": 7,
                        "passed_time": 0.007905892873,
                        "remaining_time": 0.09091776804,
                        "test": [
                          0.8428571429,
                          0.6004154238
                        ]
                      },
                      {
                        "learn": [
                          0.8427876823,
                          0.5853740129
                        ],
                        "iteration": 8,
                        "passed_time": 0.008677238409,
                        "remaining_time": 0.08773652169,
                        "test": [
                          0.8428571429,
                          0.5934997332
                        ]
                      },
                      {
                        "learn": [
                          0.8427876823,
                          0.5778640736
                        ],
                        "iteration": 9,
                        "passed_time": 0.01033949037,
                        "remaining_time": 0.09305541333,
                        "test": [
                          0.8428571429,
                          0.5886925036
                        ]
                      },
                      {
                        "learn": [
                          0.8427876823,
                          0.5717752083
                        ],
                        "iteration": 10,
                        "passed_time": 0.011437803,
                        "remaining_time": 0.09254222431,
                        "test": [
                          0.8428571429,
                          0.5841860169
                        ]
                      },
                      {
                        "learn": [
                          0.8446601942,
                          0.5659694085
                        ],
                        "iteration": 11,
                        "passed_time": 0.01255059887,
                        "remaining_time": 0.09203772507,
                        "test": [
                          0.8428571429,
                          0.5798667941
                        ]
                      },
                      {
                        "learn": [
                          0.8446601942,
                          0.5607858109
                        ],
                        "iteration": 12,
                        "passed_time": 0.01363703828,
                        "remaining_time": 0.09126325621,
                        "test": [
                          0.8398576512,
                          0.5753072799
                        ]
                      },
                      {
                        "learn": [
                          0.8446601942,
                          0.5554136684
                        ],
                        "iteration": 13,
                        "passed_time": 0.01470413626,
                        "remaining_time": 0.09032540845,
                        "test": [
                          0.8428571429,
                          0.5710477372
                        ]
                      },
                      {
                        "learn": [
                          0.8446601942,
                          0.5509310544
                        ],
                        "iteration": 14,
                        "passed_time": 0.01816779751,
                        "remaining_time": 0.1029508525,
                        "test": [
                          0.8428571429,
                          0.5674513321
                        ]
                      },
                      {
                        "learn": [
                          0.8446601942,
                          0.546800423
                        ],
                        "iteration": 15,
                        "passed_time": 0.01951761651,
                        "remaining_time": 0.1024674867,
                        "test": [
                          0.8398576512,
                          0.5652021711
                        ]
                      },
                      {
                        "learn": [
                          0.8446601942,
                          0.5431262207
                        ],
                        "iteration": 16,
                        "passed_time": 0.02100075282,
                        "remaining_time": 0.1025330873,
                        "test": [
                          0.8398576512,
                          0.5617182265
                        ]
                      },
                      {
                        "learn": [
                          0.8446601942,
                          0.5397245298
                        ],
                        "iteration": 17,
                        "passed_time": 0.02192716619,
                        "remaining_time": 0.09989042376,
                        "test": [
                          0.8398576512,
                          0.5595232913
                        ]
                      },
                      {
                        "learn": [
                          0.8465266559,
                          0.5362582255
                        ],
                        "iteration": 18,
                        "passed_time": 0.02289282016,
                        "remaining_time": 0.09759570701,
                        "test": [
                          0.8398576512,
                          0.5574750281
                        ]
                      },
                      {
                        "learn": [
                          0.8446601942,
                          0.533663441
                        ],
                        "iteration": 19,
                        "passed_time": 0.02315134292,
                        "remaining_time": 0.09260537169,
                        "test": [
                          0.8398576512,
                          0.5546621695
                        ]
                      },
                      {
                        "learn": [
                          0.8465266559,
                          0.529905858
                        ],
                        "iteration": 20,
                        "passed_time": 0.0242846775,
                        "remaining_time": 0.09135664394,
                        "test": [
                          0.8398576512,
                          0.5522576897
                        ]
                      },
                      {
                        "learn": [
                          0.8483870968,
                          0.5273242035
                        ],
                        "iteration": 21,
                        "passed_time": 0.02565681659,
                        "remaining_time": 0.090965077,
                        "test": [
                          0.8398576512,
                          0.550375313
                        ]
                      },
                      {
                        "learn": [
                          0.8483870968,
                          0.5246806008
                        ],
                        "iteration": 22,
                        "passed_time": 0.02685205321,
                        "remaining_time": 0.08989600423,
                        "test": [
                          0.8368794326,
                          0.548005743
                        ]
                      },
                      {
                        "learn": [
                          0.8483870968,
                          0.5228609874
                        ],
                        "iteration": 23,
                        "passed_time": 0.02781636945,
                        "remaining_time": 0.08808516993,
                        "test": [
                          0.8368794326,
                          0.5466285285
                        ]
                      },
                      {
                        "learn": [
                          0.8483870968,
                          0.5198172755
                        ],
                        "iteration": 24,
                        "passed_time": 0.02894941312,
                        "remaining_time": 0.08684823936,
                        "test": [
                          0.8368794326,
                          0.5457227797
                        ]
                      },
                      {
                        "learn": [
                          0.8483870968,
                          0.5174654038
                        ],
                        "iteration": 25,
                        "passed_time": 0.03002800023,
                        "remaining_time": 0.08546430835,
                        "test": [
                          0.8368794326,
                          0.5445783303
                        ]
                      },
                      {
                        "learn": [
                          0.8502415459,
                          0.5152337955
                        ],
                        "iteration": 26,
                        "passed_time": 0.03115798071,
                        "remaining_time": 0.08424194784,
                        "test": [
                          0.8368794326,
                          0.5436669379
                        ]
                      },
                      {
                        "learn": [
                          0.8502415459,
                          0.513026689
                        ],
                        "iteration": 27,
                        "passed_time": 0.03239132247,
                        "remaining_time": 0.08329197207,
                        "test": [
                          0.8368794326,
                          0.5421765867
                        ]
                      },
                      {
                        "learn": [
                          0.8502415459,
                          0.5119078019
                        ],
                        "iteration": 28,
                        "passed_time": 0.0338287977,
                        "remaining_time": 0.08282222886,
                        "test": [
                          0.8368794326,
                          0.5409960432
                        ]
                      },
                      {
                        "learn": [
                          0.8520900322,
                          0.5101538449
                        ],
                        "iteration": 29,
                        "passed_time": 0.03554297667,
                        "remaining_time": 0.08293361223,
                        "test": [
                          0.8368794326,
                          0.540954641
                        ]
                      },
                      {
                        "learn": [
                          0.8502415459,
                          0.5084126175
                        ],
                        "iteration": 30,
                        "passed_time": 0.03766227621,
                        "remaining_time": 0.08382893736,
                        "test": [
                          0.8368794326,
                          0.5400886804
                        ]
                      },
                      {
                        "learn": [
                          0.8520900322,
                          0.50634778
                        ],
                        "iteration": 31,
                        "passed_time": 0.03963514975,
                        "remaining_time": 0.08422469322,
                        "test": [
                          0.8368794326,
                          0.5403434022
                        ]
                      },
                      {
                        "learn": [
                          0.8539325843,
                          0.5038851173
                        ],
                        "iteration": 32,
                        "passed_time": 0.04131009812,
                        "remaining_time": 0.0838720174,
                        "test": [
                          0.8368794326,
                          0.540305638
                        ]
                      },
                      {
                        "learn": [
                          0.8520900322,
                          0.5024497934
                        ],
                        "iteration": 33,
                        "passed_time": 0.04216657806,
                        "remaining_time": 0.08185276917,
                        "test": [
                          0.8339222615,
                          0.5401781569
                        ]
                      },
                      {
                        "learn": [
                          0.8539325843,
                          0.5006574984
                        ],
                        "iteration": 34,
                        "passed_time": 0.04296525506,
                        "remaining_time": 0.07979261653,
                        "test": [
                          0.8309859155,
                          0.5402386271
                        ]
                      },
                      {
                        "learn": [
                          0.8539325843,
                          0.4997491668
                        ],
                        "iteration": 35,
                        "passed_time": 0.04363948978,
                        "remaining_time": 0.07758131517,
                        "test": [
                          0.8309859155,
                          0.541093971
                        ]
                      },
                      {
                        "learn": [
                          0.8539325843,
                          0.4987974376
                        ],
                        "iteration": 36,
                        "passed_time": 0.04446239551,
                        "remaining_time": 0.075706241,
                        "test": [
                          0.8309859155,
                          0.5405285991
                        ]
                      },
                      {
                        "learn": [
                          0.8539325843,
                          0.4972530146
                        ],
                        "iteration": 37,
                        "passed_time": 0.04535776786,
                        "remaining_time": 0.07400477914,
                        "test": [
                          0.8309859155,
                          0.5401909852
                        ]
                      },
                      {
                        "learn": [
                          0.8520900322,
                          0.496449689
                        ],
                        "iteration": 38,
                        "passed_time": 0.0460996001,
                        "remaining_time": 0.07210450273,
                        "test": [
                          0.8309859155,
                          0.5401240535
                        ]
                      },
                      {
                        "learn": [
                          0.8520900322,
                          0.4956765662
                        ],
                        "iteration": 39,
                        "passed_time": 0.0473159859,
                        "remaining_time": 0.07097397884,
                        "test": [
                          0.8309859155,
                          0.5397988957
                        ]
                      },
                      {
                        "learn": [
                          0.8520900322,
                          0.4948001324
                        ],
                        "iteration": 40,
                        "passed_time": 0.04815434122,
                        "remaining_time": 0.06929527151,
                        "test": [
                          0.8309859155,
                          0.5393025883
                        ]
                      },
                      {
                        "learn": [
                          0.8520900322,
                          0.4941663995
                        ],
                        "iteration": 41,
                        "passed_time": 0.04905920497,
                        "remaining_time": 0.06774842591,
                        "test": [
                          0.8309859155,
                          0.5393365056
                        ]
                      },
                      {
                        "learn": [
                          0.8539325843,
                          0.4928243259
                        ],
                        "iteration": 42,
                        "passed_time": 0.05011133062,
                        "remaining_time": 0.06642664756,
                        "test": [
                          0.8309859155,
                          0.5393053895
                        ]
                      },
                      {
                        "learn": [
                          0.8539325843,
                          0.491424539
                        ],
                        "iteration": 43,
                        "passed_time": 0.05265055395,
                        "remaining_time": 0.06700979594,
                        "test": [
                          0.8309859155,
                          0.5396195488
                        ]
                      },
                      {
                        "learn": [
                          0.8539325843,
                          0.4899948576
                        ],
                        "iteration": 44,
                        "passed_time": 0.05394674549,
                        "remaining_time": 0.06593491116,
                        "test": [
                          0.8309859155,
                          0.5403759569
                        ]
                      },
                      {
                        "learn": [
                          0.8557692308,
                          0.4882857962
                        ],
                        "iteration": 45,
                        "passed_time": 0.05534680286,
                        "remaining_time": 0.06497233379,
                        "test": [
                          0.8309859155,
                          0.5389314899
                        ]
                      },
                      {
                        "learn": [
                          0.8557692308,
                          0.4869133979
                        ],
                        "iteration": 46,
                        "passed_time": 0.05644891187,
                        "remaining_time": 0.06365515594,
                        "test": [
                          0.8309859155,
                          0.5390210934
                        ]
                      },
                      {
                        "learn": [
                          0.8557692308,
                          0.4856658249
                        ],
                        "iteration": 47,
                        "passed_time": 0.05731436184,
                        "remaining_time": 0.06209055866,
                        "test": [
                          0.8309859155,
                          0.538688728
                        ]
                      },
                      {
                        "learn": [
                          0.8557692308,
                          0.4849364481
                        ],
                        "iteration": 48,
                        "passed_time": 0.05816536903,
                        "remaining_time": 0.06053946573,
                        "test": [
                          0.8309859155,
                          0.5379140354
                        ]
                      },
                      {
                        "learn": [
                          0.8557692308,
                          0.4841265099
                        ],
                        "iteration": 49,
                        "passed_time": 0.0589785029,
                        "remaining_time": 0.0589785029,
                        "test": [
                          0.8309859155,
                          0.5375181723
                        ]
                      },
                      {
                        "learn": [
                          0.8576,
                          0.4828052688
                        ],
                        "iteration": 50,
                        "passed_time": 0.0598011068,
                        "remaining_time": 0.05745596536,
                        "test": [
                          0.8309859155,
                          0.5377652636
                        ]
                      },
                      {
                        "learn": [
                          0.8576,
                          0.4821589807
                        ],
                        "iteration": 51,
                        "passed_time": 0.06088896031,
                        "remaining_time": 0.05620519413,
                        "test": [
                          0.8309859155,
                          0.5377362894
                        ]
                      },
                      {
                        "learn": [
                          0.8576,
                          0.4813966449
                        ],
                        "iteration": 52,
                        "passed_time": 0.06196205285,
                        "remaining_time": 0.05494748083,
                        "test": [
                          0.8309859155,
                          0.5367607922
                        ]
                      },
                      {
                        "learn": [
                          0.8557692308,
                          0.4799063187
                        ],
                        "iteration": 53,
                        "passed_time": 0.06328383948,
                        "remaining_time": 0.05390845586,
                        "test": [
                          0.8309859155,
                          0.5371794058
                        ]
                      },
                      {
                        "learn": [
                          0.8576,
                          0.4787656723
                        ],
                        "iteration": 54,
                        "passed_time": 0.06437755119,
                        "remaining_time": 0.05267254188,
                        "test": [
                          0.8309859155,
                          0.5386224134
                        ]
                      },
                      {
                        "learn": [
                          0.8576,
                          0.4772753675
                        ],
                        "iteration": 55,
                        "passed_time": 0.0655013821,
                        "remaining_time": 0.05146537165,
                        "test": [
                          0.8309859155,
                          0.5379947117
                        ]
                      },
                      {
                        "learn": [
                          0.8576,
                          0.476322884
                        ],
                        "iteration": 56,
                        "passed_time": 0.06667431683,
                        "remaining_time": 0.05029816883,
                        "test": [
                          0.8280701754,
                          0.5374395485
                        ]
                      },
                      {
                        "learn": [
                          0.8576,
                          0.4761584328
                        ],
                        "iteration": 57,
                        "passed_time": 0.06735603795,
                        "remaining_time": 0.04877506196,
                        "test": [
                          0.8280701754,
                          0.5372026971
                        ]
                      },
                      {
                        "learn": [
                          0.8576,
                          0.4754946989
                        ],
                        "iteration": 58,
                        "passed_time": 0.06848071931,
                        "remaining_time": 0.04758829647,
                        "test": [
                          0.8280701754,
                          0.537127769
                        ]
                      },
                      {
                        "learn": [
                          0.8576,
                          0.4745839328
                        ],
                        "iteration": 59,
                        "passed_time": 0.06959281063,
                        "remaining_time": 0.04639520709,
                        "test": [
                          0.8309859155,
                          0.5375165104
                        ]
                      },
                      {
                        "learn": [
                          0.8576,
                          0.4728097857
                        ],
                        "iteration": 60,
                        "passed_time": 0.07066883819,
                        "remaining_time": 0.04518171622,
                        "test": [
                          0.8309859155,
                          0.5375902873
                        ]
                      },
                      {
                        "learn": [
                          0.8576,
                          0.4718977322
                        ],
                        "iteration": 61,
                        "passed_time": 0.07173904799,
                        "remaining_time": 0.04396909393,
                        "test": [
                          0.8309859155,
                          0.5378773854
                        ]
                      },
                      {
                        "learn": [
                          0.8576,
                          0.4716346728
                        ],
                        "iteration": 62,
                        "passed_time": 0.07240594315,
                        "remaining_time": 0.04252412534,
                        "test": [
                          0.8309859155,
                          0.5376165709
                        ]
                      },
                      {
                        "learn": [
                          0.8576,
                          0.4702676956
                        ],
                        "iteration": 63,
                        "passed_time": 0.07349342256,
                        "remaining_time": 0.04134005019,
                        "test": [
                          0.8251748252,
                          0.5379830703
                        ]
                      },
                      {
                        "learn": [
                          0.8594249201,
                          0.4687668232
                        ],
                        "iteration": 64,
                        "passed_time": 0.074636904,
                        "remaining_time": 0.04018910215,
                        "test": [
                          0.8280701754,
                          0.5379759597
                        ]
                      },
                      {
                        "learn": [
                          0.8594249201,
                          0.4676079606
                        ],
                        "iteration": 65,
                        "passed_time": 0.07575131624,
                        "remaining_time": 0.03902340533,
                        "test": [
                          0.8280701754,
                          0.5379994465
                        ]
                      },
                      {
                        "learn": [
                          0.8594249201,
                          0.4672454649
                        ],
                        "iteration": 66,
                        "passed_time": 0.07673484345,
                        "remaining_time": 0.03779477364,
                        "test": [
                          0.8280701754,
                          0.5378063069
                        ]
                      },
                      {
                        "learn": [
                          0.8612440191,
                          0.4655369157
                        ],
                        "iteration": 67,
                        "passed_time": 0.08018675875,
                        "remaining_time": 0.03773494529,
                        "test": [
                          0.8280701754,
                          0.5376784588
                        ]
                      },
                      {
                        "learn": [
                          0.8608,
                          0.4640469294
                        ],
                        "iteration": 68,
                        "passed_time": 0.08155746192,
                        "remaining_time": 0.03664175825,
                        "test": [
                          0.8280701754,
                          0.5377019402
                        ]
                      },
                      {
                        "learn": [
                          0.8608,
                          0.4633436217
                        ],
                        "iteration": 69,
                        "passed_time": 0.08285653165,
                        "remaining_time": 0.03550994214,
                        "test": [
                          0.8280701754,
                          0.5373209891
                        ]
                      },
                      {
                        "learn": [
                          0.8608,
                          0.462815011
                        ],
                        "iteration": 70,
                        "passed_time": 0.08399206669,
                        "remaining_time": 0.03430661879,
                        "test": [
                          0.8280701754,
                          0.5374239101
                        ]
                      },
                      {
                        "learn": [
                          0.864,
                          0.4618039885
                        ],
                        "iteration": 71,
                        "passed_time": 0.08523334712,
                        "remaining_time": 0.03314630166,
                        "test": [
                          0.8280701754,
                          0.5374443652
                        ]
                      },
                      {
                        "learn": [
                          0.8621794872,
                          0.4607176453
                        ],
                        "iteration": 72,
                        "passed_time": 0.0863973159,
                        "remaining_time": 0.03195517164,
                        "test": [
                          0.8280701754,
                          0.5370824212
                        ]
                      },
                      {
                        "learn": [
                          0.8621794872,
                          0.459845167
                        ],
                        "iteration": 73,
                        "passed_time": 0.08753141503,
                        "remaining_time": 0.03075428096,
                        "test": [
                          0.8280701754,
                          0.5372204595
                        ]
                      },
                      {
                        "learn": [
                          0.86035313,
                          0.4594874839
                        ],
                        "iteration": 74,
                        "passed_time": 0.08838085631,
                        "remaining_time": 0.02946028544,
                        "test": [
                          0.8280701754,
                          0.5371927796
                        ]
                      },
                      {
                        "learn": [
                          0.864,
                          0.4585995682
                        ],
                        "iteration": 75,
                        "passed_time": 0.089271135,
                        "remaining_time": 0.02819088474,
                        "test": [
                          0.8280701754,
                          0.5376379872
                        ]
                      },
                      {
                        "learn": [
                          0.864,
                          0.4581627974
                        ],
                        "iteration": 76,
                        "passed_time": 0.0901249572,
                        "remaining_time": 0.02692044176,
                        "test": [
                          0.8280701754,
                          0.5373940704
                        ]
                      },
                      {
                        "learn": [
                          0.864,
                          0.4580452077
                        ],
                        "iteration": 77,
                        "passed_time": 0.09070158521,
                        "remaining_time": 0.02558249839,
                        "test": [
                          0.8280701754,
                          0.5374373216
                        ]
                      },
                      {
                        "learn": [
                          0.8621794872,
                          0.4567161667
                        ],
                        "iteration": 78,
                        "passed_time": 0.09184802711,
                        "remaining_time": 0.02441529835,
                        "test": [
                          0.8251748252,
                          0.5382832246
                        ]
                      },
                      {
                        "learn": [
                          0.864,
                          0.4561768571
                        ],
                        "iteration": 79,
                        "passed_time": 0.09295139022,
                        "remaining_time": 0.02323784755,
                        "test": [
                          0.8251748252,
                          0.5386441711
                        ]
                      },
                      {
                        "learn": [
                          0.864,
                          0.4553144529
                        ],
                        "iteration": 80,
                        "passed_time": 0.09404444284,
                        "remaining_time": 0.02205980758,
                        "test": [
                          0.8251748252,
                          0.5387360524
                        ]
                      },
                      {
                        "learn": [
                          0.864,
                          0.4551865494
                        ],
                        "iteration": 81,
                        "passed_time": 0.09471051435,
                        "remaining_time": 0.02079011291,
                        "test": [
                          0.8251748252,
                          0.5388637595
                        ]
                      },
                      {
                        "learn": [
                          0.864,
                          0.4548349814
                        ],
                        "iteration": 82,
                        "passed_time": 0.09577960142,
                        "remaining_time": 0.01961750873,
                        "test": [
                          0.8251748252,
                          0.5386839363
                        ]
                      },
                      {
                        "learn": [
                          0.864,
                          0.4536379994
                        ],
                        "iteration": 83,
                        "passed_time": 0.09685127805,
                        "remaining_time": 0.01844786249,
                        "test": [
                          0.8251748252,
                          0.538844365
                        ]
                      },
                      {
                        "learn": [
                          0.864,
                          0.4528683963
                        ],
                        "iteration": 84,
                        "passed_time": 0.09791275874,
                        "remaining_time": 0.01727872213,
                        "test": [
                          0.8251748252,
                          0.5393382575
                        ]
                      },
                      {
                        "learn": [
                          0.864,
                          0.4520065864
                        ],
                        "iteration": 85,
                        "passed_time": 0.09902047141,
                        "remaining_time": 0.01611961162,
                        "test": [
                          0.8251748252,
                          0.5396687424
                        ]
                      },
                      {
                        "learn": [
                          0.864,
                          0.4512094484
                        ],
                        "iteration": 86,
                        "passed_time": 0.1000779525,
                        "remaining_time": 0.01495417681,
                        "test": [
                          0.8251748252,
                          0.5404356274
                        ]
                      },
                      {
                        "learn": [
                          0.8653846154,
                          0.4505209412
                        ],
                        "iteration": 87,
                        "passed_time": 0.1011146636,
                        "remaining_time": 0.01378836321,
                        "test": [
                          0.8251748252,
                          0.5407151545
                        ]
                      },
                      {
                        "learn": [
                          0.8653846154,
                          0.4500992766
                        ],
                        "iteration": 88,
                        "passed_time": 0.1021406864,
                        "remaining_time": 0.01262412978,
                        "test": [
                          0.8251748252,
                          0.5405213598
                        ]
                      },
                      {
                        "learn": [
                          0.864,
                          0.4489731119
                        ],
                        "iteration": 89,
                        "passed_time": 0.1031652556,
                        "remaining_time": 0.01146280618,
                        "test": [
                          0.8251748252,
                          0.5398469452
                        ]
                      },
                      {
                        "learn": [
                          0.8653846154,
                          0.4476886542
                        ],
                        "iteration": 90,
                        "passed_time": 0.1042350577,
                        "remaining_time": 0.01030896175,
                        "test": [
                          0.8251748252,
                          0.5395838728
                        ]
                      },
                      {
                        "learn": [
                          0.8653846154,
                          0.4472806945
                        ],
                        "iteration": 91,
                        "passed_time": 0.1050841585,
                        "remaining_time": 0.009137752911,
                        "test": [
                          0.8251748252,
                          0.5397924823
                        ]
                      },
                      {
                        "learn": [
                          0.8653846154,
                          0.4467856828
                        ],
                        "iteration": 92,
                        "passed_time": 0.1059363998,
                        "remaining_time": 0.007973707509,
                        "test": [
                          0.8251748252,
                          0.5395517885
                        ]
                      },
                      {
                        "learn": [
                          0.8653846154,
                          0.4464888927
                        ],
                        "iteration": 93,
                        "passed_time": 0.1070828285,
                        "remaining_time": 0.006835074159,
                        "test": [
                          0.8251748252,
                          0.5394281967
                        ]
                      },
                      {
                        "learn": [
                          0.8653846154,
                          0.4459448562
                        ],
                        "iteration": 94,
                        "passed_time": 0.1081734997,
                        "remaining_time": 0.005693342091,
                        "test": [
                          0.8251748252,
                          0.5393346216
                        ]
                      },
                      {
                        "learn": [
                          0.8653846154,
                          0.4449671576
                        ],
                        "iteration": 95,
                        "passed_time": 0.1093147734,
                        "remaining_time": 0.004554782226,
                        "test": [
                          0.8251748252,
                          0.5392289115
                        ]
                      },
                      {
                        "learn": [
                          0.8653846154,
                          0.4446915105
                        ],
                        "iteration": 96,
                        "passed_time": 0.1104039156,
                        "remaining_time": 0.00341455409,
                        "test": [
                          0.8251748252,
                          0.5393391344
                        ]
                      },
                      {
                        "learn": [
                          0.8672,
                          0.4435555408
                        ],
                        "iteration": 97,
                        "passed_time": 0.1115364929,
                        "remaining_time": 0.002276254957,
                        "test": [
                          0.8251748252,
                          0.5395027192
                        ]
                      },
                      {
                        "learn": [
                          0.8658146965,
                          0.4430404529
                        ],
                        "iteration": 98,
                        "passed_time": 0.1125987845,
                        "remaining_time": 0.001137361459,
                        "test": [
                          0.8251748252,
                          0.5399006561
                        ]
                      },
                      {
                        "learn": [
                          0.8672,
                          0.4424665487
                        ],
                        "iteration": 99,
                        "passed_time": 0.113697983,
                        "remaining_time": 0,
                        "test": [
                          0.8251748252,
                          0.5403278012
                        ]
                      }
                    ],
                    "meta": {
                      "test_sets": [
                        "test"
                      ],
                      "test_metrics": [
                        {
                          "best_value": "Max",
                          "name": "F1"
                        },
                        {
                          "best_value": "Min",
                          "name": "Logloss"
                        }
                      ],
                      "learn_metrics": [
                        {
                          "best_value": "Max",
                          "name": "F1"
                        },
                        {
                          "best_value": "Min",
                          "name": "Logloss"
                        }
                      ],
                      "launch_mode": "Train",
                      "parameters": "",
                      "iteration_count": 100,
                      "learn_sets": [
                        "learn"
                      ],
                      "name": "experiment"
                    }
                  }
                }
              }
            },
            "layout": "IPY_MODEL_45b25e6434da4db7893cec4455cae1db"
          }
        }
      }
    }
  },
  "cells": [
    {
      "cell_type": "code",
      "source": [
        "#installing the catboost library\n",
        "!pip install catboost"
      ],
      "metadata": {
        "colab": {
          "base_uri": "https://localhost:8080/"
        },
        "id": "zXrI7bYslvgE",
        "outputId": "85fe40b2-f525-4028-d49a-ce106cb74658"
      },
      "execution_count": 69,
      "outputs": [
        {
          "output_type": "stream",
          "name": "stdout",
          "text": [
            "Requirement already satisfied: catboost in /usr/local/lib/python3.10/dist-packages (1.2.6)\n",
            "Requirement already satisfied: graphviz in /usr/local/lib/python3.10/dist-packages (from catboost) (0.20.3)\n",
            "Requirement already satisfied: matplotlib in /usr/local/lib/python3.10/dist-packages (from catboost) (3.7.1)\n",
            "Requirement already satisfied: numpy<2.0,>=1.16.0 in /usr/local/lib/python3.10/dist-packages (from catboost) (1.26.4)\n",
            "Requirement already satisfied: pandas>=0.24 in /usr/local/lib/python3.10/dist-packages (from catboost) (2.1.4)\n",
            "Requirement already satisfied: scipy in /usr/local/lib/python3.10/dist-packages (from catboost) (1.13.1)\n",
            "Requirement already satisfied: plotly in /usr/local/lib/python3.10/dist-packages (from catboost) (5.15.0)\n",
            "Requirement already satisfied: six in /usr/local/lib/python3.10/dist-packages (from catboost) (1.16.0)\n",
            "Requirement already satisfied: python-dateutil>=2.8.2 in /usr/local/lib/python3.10/dist-packages (from pandas>=0.24->catboost) (2.8.2)\n",
            "Requirement already satisfied: pytz>=2020.1 in /usr/local/lib/python3.10/dist-packages (from pandas>=0.24->catboost) (2024.1)\n",
            "Requirement already satisfied: tzdata>=2022.1 in /usr/local/lib/python3.10/dist-packages (from pandas>=0.24->catboost) (2024.1)\n",
            "Requirement already satisfied: contourpy>=1.0.1 in /usr/local/lib/python3.10/dist-packages (from matplotlib->catboost) (1.3.0)\n",
            "Requirement already satisfied: cycler>=0.10 in /usr/local/lib/python3.10/dist-packages (from matplotlib->catboost) (0.12.1)\n",
            "Requirement already satisfied: fonttools>=4.22.0 in /usr/local/lib/python3.10/dist-packages (from matplotlib->catboost) (4.53.1)\n",
            "Requirement already satisfied: kiwisolver>=1.0.1 in /usr/local/lib/python3.10/dist-packages (from matplotlib->catboost) (1.4.5)\n",
            "Requirement already satisfied: packaging>=20.0 in /usr/local/lib/python3.10/dist-packages (from matplotlib->catboost) (24.1)\n",
            "Requirement already satisfied: pillow>=6.2.0 in /usr/local/lib/python3.10/dist-packages (from matplotlib->catboost) (9.4.0)\n",
            "Requirement already satisfied: pyparsing>=2.3.1 in /usr/local/lib/python3.10/dist-packages (from matplotlib->catboost) (3.1.4)\n",
            "Requirement already satisfied: tenacity>=6.2.0 in /usr/local/lib/python3.10/dist-packages (from plotly->catboost) (9.0.0)\n"
          ]
        }
      ]
    },
    {
      "cell_type": "code",
      "source": [
        "#import libraries\n",
        "import pandas as pd\n",
        "import os\n",
        "import matplotlib.pyplot as plt\n",
        "import seaborn as sns\n",
        "\n",
        "import catboost as cb\n",
        "from sklearn.model_selection import train_test_split\n",
        "from sklearn.metrics import confusion_matrix, accuracy_score\n",
        "\n",
        "import warnings\n",
        "warnings.filterwarnings('ignore')"
      ],
      "metadata": {
        "id": "jryGSeb9l7AE"
      },
      "execution_count": 70,
      "outputs": []
    },
    {
      "cell_type": "code",
      "source": [
        "\n",
        "dt = pd.read_csv('/content/sample_data/data (1).csv')\n",
        "\n"
      ],
      "metadata": {
        "id": "cDsrnnP0khIB"
      },
      "execution_count": 71,
      "outputs": []
    },
    {
      "cell_type": "code",
      "source": [
        "dt.head()"
      ],
      "metadata": {
        "colab": {
          "base_uri": "https://localhost:8080/",
          "height": 226
        },
        "id": "Nz2PYsBkmGqI",
        "outputId": "6dd9e900-1ed8-4562-8c24-9c997ca911ab"
      },
      "execution_count": 72,
      "outputs": [
        {
          "output_type": "execute_result",
          "data": {
            "text/plain": [
              "   ApplicantIncome  CoapplicantIncome  LoanAmount  Loan_Amount_Term  \\\n",
              "0           5849.0                0.0         0.0             360.0   \n",
              "1           4583.0             1508.0       128.0             360.0   \n",
              "2           3000.0                0.0        66.0             360.0   \n",
              "3           2583.0             2358.0       120.0             360.0   \n",
              "4           6000.0                0.0       141.0             360.0   \n",
              "\n",
              "  Credit_History  Loan_Status  \n",
              "0            Yes            1  \n",
              "1            Yes            0  \n",
              "2            Yes            1  \n",
              "3            Yes            1  \n",
              "4            Yes            1  "
            ],
            "text/html": [
              "\n",
              "  <div id=\"df-ea9d7ca0-ef4b-45aa-97ea-28b99dafe133\" class=\"colab-df-container\">\n",
              "    <div>\n",
              "<style scoped>\n",
              "    .dataframe tbody tr th:only-of-type {\n",
              "        vertical-align: middle;\n",
              "    }\n",
              "\n",
              "    .dataframe tbody tr th {\n",
              "        vertical-align: top;\n",
              "    }\n",
              "\n",
              "    .dataframe thead th {\n",
              "        text-align: right;\n",
              "    }\n",
              "</style>\n",
              "<table border=\"1\" class=\"dataframe\">\n",
              "  <thead>\n",
              "    <tr style=\"text-align: right;\">\n",
              "      <th></th>\n",
              "      <th>ApplicantIncome</th>\n",
              "      <th>CoapplicantIncome</th>\n",
              "      <th>LoanAmount</th>\n",
              "      <th>Loan_Amount_Term</th>\n",
              "      <th>Credit_History</th>\n",
              "      <th>Loan_Status</th>\n",
              "    </tr>\n",
              "  </thead>\n",
              "  <tbody>\n",
              "    <tr>\n",
              "      <th>0</th>\n",
              "      <td>5849.0</td>\n",
              "      <td>0.0</td>\n",
              "      <td>0.0</td>\n",
              "      <td>360.0</td>\n",
              "      <td>Yes</td>\n",
              "      <td>1</td>\n",
              "    </tr>\n",
              "    <tr>\n",
              "      <th>1</th>\n",
              "      <td>4583.0</td>\n",
              "      <td>1508.0</td>\n",
              "      <td>128.0</td>\n",
              "      <td>360.0</td>\n",
              "      <td>Yes</td>\n",
              "      <td>0</td>\n",
              "    </tr>\n",
              "    <tr>\n",
              "      <th>2</th>\n",
              "      <td>3000.0</td>\n",
              "      <td>0.0</td>\n",
              "      <td>66.0</td>\n",
              "      <td>360.0</td>\n",
              "      <td>Yes</td>\n",
              "      <td>1</td>\n",
              "    </tr>\n",
              "    <tr>\n",
              "      <th>3</th>\n",
              "      <td>2583.0</td>\n",
              "      <td>2358.0</td>\n",
              "      <td>120.0</td>\n",
              "      <td>360.0</td>\n",
              "      <td>Yes</td>\n",
              "      <td>1</td>\n",
              "    </tr>\n",
              "    <tr>\n",
              "      <th>4</th>\n",
              "      <td>6000.0</td>\n",
              "      <td>0.0</td>\n",
              "      <td>141.0</td>\n",
              "      <td>360.0</td>\n",
              "      <td>Yes</td>\n",
              "      <td>1</td>\n",
              "    </tr>\n",
              "  </tbody>\n",
              "</table>\n",
              "</div>\n",
              "    <div class=\"colab-df-buttons\">\n",
              "\n",
              "  <div class=\"colab-df-container\">\n",
              "    <button class=\"colab-df-convert\" onclick=\"convertToInteractive('df-ea9d7ca0-ef4b-45aa-97ea-28b99dafe133')\"\n",
              "            title=\"Convert this dataframe to an interactive table.\"\n",
              "            style=\"display:none;\">\n",
              "\n",
              "  <svg xmlns=\"http://www.w3.org/2000/svg\" height=\"24px\" viewBox=\"0 -960 960 960\">\n",
              "    <path d=\"M120-120v-720h720v720H120Zm60-500h600v-160H180v160Zm220 220h160v-160H400v160Zm0 220h160v-160H400v160ZM180-400h160v-160H180v160Zm440 0h160v-160H620v160ZM180-180h160v-160H180v160Zm440 0h160v-160H620v160Z\"/>\n",
              "  </svg>\n",
              "    </button>\n",
              "\n",
              "  <style>\n",
              "    .colab-df-container {\n",
              "      display:flex;\n",
              "      gap: 12px;\n",
              "    }\n",
              "\n",
              "    .colab-df-convert {\n",
              "      background-color: #E8F0FE;\n",
              "      border: none;\n",
              "      border-radius: 50%;\n",
              "      cursor: pointer;\n",
              "      display: none;\n",
              "      fill: #1967D2;\n",
              "      height: 32px;\n",
              "      padding: 0 0 0 0;\n",
              "      width: 32px;\n",
              "    }\n",
              "\n",
              "    .colab-df-convert:hover {\n",
              "      background-color: #E2EBFA;\n",
              "      box-shadow: 0px 1px 2px rgba(60, 64, 67, 0.3), 0px 1px 3px 1px rgba(60, 64, 67, 0.15);\n",
              "      fill: #174EA6;\n",
              "    }\n",
              "\n",
              "    .colab-df-buttons div {\n",
              "      margin-bottom: 4px;\n",
              "    }\n",
              "\n",
              "    [theme=dark] .colab-df-convert {\n",
              "      background-color: #3B4455;\n",
              "      fill: #D2E3FC;\n",
              "    }\n",
              "\n",
              "    [theme=dark] .colab-df-convert:hover {\n",
              "      background-color: #434B5C;\n",
              "      box-shadow: 0px 1px 3px 1px rgba(0, 0, 0, 0.15);\n",
              "      filter: drop-shadow(0px 1px 2px rgba(0, 0, 0, 0.3));\n",
              "      fill: #FFFFFF;\n",
              "    }\n",
              "  </style>\n",
              "\n",
              "    <script>\n",
              "      const buttonEl =\n",
              "        document.querySelector('#df-ea9d7ca0-ef4b-45aa-97ea-28b99dafe133 button.colab-df-convert');\n",
              "      buttonEl.style.display =\n",
              "        google.colab.kernel.accessAllowed ? 'block' : 'none';\n",
              "\n",
              "      async function convertToInteractive(key) {\n",
              "        const element = document.querySelector('#df-ea9d7ca0-ef4b-45aa-97ea-28b99dafe133');\n",
              "        const dataTable =\n",
              "          await google.colab.kernel.invokeFunction('convertToInteractive',\n",
              "                                                    [key], {});\n",
              "        if (!dataTable) return;\n",
              "\n",
              "        const docLinkHtml = 'Like what you see? Visit the ' +\n",
              "          '<a target=\"_blank\" href=https://colab.research.google.com/notebooks/data_table.ipynb>data table notebook</a>'\n",
              "          + ' to learn more about interactive tables.';\n",
              "        element.innerHTML = '';\n",
              "        dataTable['output_type'] = 'display_data';\n",
              "        await google.colab.output.renderOutput(dataTable, element);\n",
              "        const docLink = document.createElement('div');\n",
              "        docLink.innerHTML = docLinkHtml;\n",
              "        element.appendChild(docLink);\n",
              "      }\n",
              "    </script>\n",
              "  </div>\n",
              "\n",
              "\n",
              "<div id=\"df-5ee8ab2e-2d98-497c-975e-970c761b12e0\">\n",
              "  <button class=\"colab-df-quickchart\" onclick=\"quickchart('df-5ee8ab2e-2d98-497c-975e-970c761b12e0')\"\n",
              "            title=\"Suggest charts\"\n",
              "            style=\"display:none;\">\n",
              "\n",
              "<svg xmlns=\"http://www.w3.org/2000/svg\" height=\"24px\"viewBox=\"0 0 24 24\"\n",
              "     width=\"24px\">\n",
              "    <g>\n",
              "        <path d=\"M19 3H5c-1.1 0-2 .9-2 2v14c0 1.1.9 2 2 2h14c1.1 0 2-.9 2-2V5c0-1.1-.9-2-2-2zM9 17H7v-7h2v7zm4 0h-2V7h2v10zm4 0h-2v-4h2v4z\"/>\n",
              "    </g>\n",
              "</svg>\n",
              "  </button>\n",
              "\n",
              "<style>\n",
              "  .colab-df-quickchart {\n",
              "      --bg-color: #E8F0FE;\n",
              "      --fill-color: #1967D2;\n",
              "      --hover-bg-color: #E2EBFA;\n",
              "      --hover-fill-color: #174EA6;\n",
              "      --disabled-fill-color: #AAA;\n",
              "      --disabled-bg-color: #DDD;\n",
              "  }\n",
              "\n",
              "  [theme=dark] .colab-df-quickchart {\n",
              "      --bg-color: #3B4455;\n",
              "      --fill-color: #D2E3FC;\n",
              "      --hover-bg-color: #434B5C;\n",
              "      --hover-fill-color: #FFFFFF;\n",
              "      --disabled-bg-color: #3B4455;\n",
              "      --disabled-fill-color: #666;\n",
              "  }\n",
              "\n",
              "  .colab-df-quickchart {\n",
              "    background-color: var(--bg-color);\n",
              "    border: none;\n",
              "    border-radius: 50%;\n",
              "    cursor: pointer;\n",
              "    display: none;\n",
              "    fill: var(--fill-color);\n",
              "    height: 32px;\n",
              "    padding: 0;\n",
              "    width: 32px;\n",
              "  }\n",
              "\n",
              "  .colab-df-quickchart:hover {\n",
              "    background-color: var(--hover-bg-color);\n",
              "    box-shadow: 0 1px 2px rgba(60, 64, 67, 0.3), 0 1px 3px 1px rgba(60, 64, 67, 0.15);\n",
              "    fill: var(--button-hover-fill-color);\n",
              "  }\n",
              "\n",
              "  .colab-df-quickchart-complete:disabled,\n",
              "  .colab-df-quickchart-complete:disabled:hover {\n",
              "    background-color: var(--disabled-bg-color);\n",
              "    fill: var(--disabled-fill-color);\n",
              "    box-shadow: none;\n",
              "  }\n",
              "\n",
              "  .colab-df-spinner {\n",
              "    border: 2px solid var(--fill-color);\n",
              "    border-color: transparent;\n",
              "    border-bottom-color: var(--fill-color);\n",
              "    animation:\n",
              "      spin 1s steps(1) infinite;\n",
              "  }\n",
              "\n",
              "  @keyframes spin {\n",
              "    0% {\n",
              "      border-color: transparent;\n",
              "      border-bottom-color: var(--fill-color);\n",
              "      border-left-color: var(--fill-color);\n",
              "    }\n",
              "    20% {\n",
              "      border-color: transparent;\n",
              "      border-left-color: var(--fill-color);\n",
              "      border-top-color: var(--fill-color);\n",
              "    }\n",
              "    30% {\n",
              "      border-color: transparent;\n",
              "      border-left-color: var(--fill-color);\n",
              "      border-top-color: var(--fill-color);\n",
              "      border-right-color: var(--fill-color);\n",
              "    }\n",
              "    40% {\n",
              "      border-color: transparent;\n",
              "      border-right-color: var(--fill-color);\n",
              "      border-top-color: var(--fill-color);\n",
              "    }\n",
              "    60% {\n",
              "      border-color: transparent;\n",
              "      border-right-color: var(--fill-color);\n",
              "    }\n",
              "    80% {\n",
              "      border-color: transparent;\n",
              "      border-right-color: var(--fill-color);\n",
              "      border-bottom-color: var(--fill-color);\n",
              "    }\n",
              "    90% {\n",
              "      border-color: transparent;\n",
              "      border-bottom-color: var(--fill-color);\n",
              "    }\n",
              "  }\n",
              "</style>\n",
              "\n",
              "  <script>\n",
              "    async function quickchart(key) {\n",
              "      const quickchartButtonEl =\n",
              "        document.querySelector('#' + key + ' button');\n",
              "      quickchartButtonEl.disabled = true;  // To prevent multiple clicks.\n",
              "      quickchartButtonEl.classList.add('colab-df-spinner');\n",
              "      try {\n",
              "        const charts = await google.colab.kernel.invokeFunction(\n",
              "            'suggestCharts', [key], {});\n",
              "      } catch (error) {\n",
              "        console.error('Error during call to suggestCharts:', error);\n",
              "      }\n",
              "      quickchartButtonEl.classList.remove('colab-df-spinner');\n",
              "      quickchartButtonEl.classList.add('colab-df-quickchart-complete');\n",
              "    }\n",
              "    (() => {\n",
              "      let quickchartButtonEl =\n",
              "        document.querySelector('#df-5ee8ab2e-2d98-497c-975e-970c761b12e0 button');\n",
              "      quickchartButtonEl.style.display =\n",
              "        google.colab.kernel.accessAllowed ? 'block' : 'none';\n",
              "    })();\n",
              "  </script>\n",
              "</div>\n",
              "\n",
              "    </div>\n",
              "  </div>\n"
            ],
            "application/vnd.google.colaboratory.intrinsic+json": {
              "type": "dataframe",
              "variable_name": "dt",
              "summary": "{\n  \"name\": \"dt\",\n  \"rows\": 614,\n  \"fields\": [\n    {\n      \"column\": \"ApplicantIncome\",\n      \"properties\": {\n        \"dtype\": \"number\",\n        \"std\": 6116.670777182065,\n        \"min\": 150.0,\n        \"max\": 81000.0,\n        \"num_unique_values\": 503,\n        \"samples\": [\n          2473.0,\n          1378.0,\n          2499.0\n        ],\n        \"semantic_type\": \"\",\n        \"description\": \"\"\n      }\n    },\n    {\n      \"column\": \"CoapplicantIncome\",\n      \"properties\": {\n        \"dtype\": \"number\",\n        \"std\": 2931.0198795892265,\n        \"min\": 0.0,\n        \"max\": 41667.0,\n        \"num_unique_values\": 287,\n        \"samples\": [\n          1840.0,\n          2042.0,\n          2426.0\n        ],\n        \"semantic_type\": \"\",\n        \"description\": \"\"\n      }\n    },\n    {\n      \"column\": \"LoanAmount\",\n      \"properties\": {\n        \"dtype\": \"number\",\n        \"std\": 88.41012745847985,\n        \"min\": 0.0,\n        \"max\": 700.0,\n        \"num_unique_values\": 203,\n        \"samples\": [\n          100.0,\n          349.0,\n          214.0\n        ],\n        \"semantic_type\": \"\",\n        \"description\": \"\"\n      }\n    },\n    {\n      \"column\": \"Loan_Amount_Term\",\n      \"properties\": {\n        \"dtype\": \"number\",\n        \"std\": 82.07465600050266,\n        \"min\": 0.0,\n        \"max\": 480.0,\n        \"num_unique_values\": 11,\n        \"samples\": [\n          60.0,\n          360.0,\n          84.0\n        ],\n        \"semantic_type\": \"\",\n        \"description\": \"\"\n      }\n    },\n    {\n      \"column\": \"Credit_History\",\n      \"properties\": {\n        \"dtype\": \"category\",\n        \"num_unique_values\": 2,\n        \"samples\": [\n          \"No\",\n          \"Yes\"\n        ],\n        \"semantic_type\": \"\",\n        \"description\": \"\"\n      }\n    },\n    {\n      \"column\": \"Loan_Status\",\n      \"properties\": {\n        \"dtype\": \"number\",\n        \"std\": 0,\n        \"min\": 0,\n        \"max\": 1,\n        \"num_unique_values\": 2,\n        \"samples\": [\n          0,\n          1\n        ],\n        \"semantic_type\": \"\",\n        \"description\": \"\"\n      }\n    }\n  ]\n}"
            }
          },
          "metadata": {},
          "execution_count": 72
        }
      ]
    },
    {
      "cell_type": "code",
      "source": [
        "dt.shape"
      ],
      "metadata": {
        "colab": {
          "base_uri": "https://localhost:8080/"
        },
        "id": "WyXnnUzxmvrX",
        "outputId": "04e07076-df37-480c-b8ea-309177a084c4"
      },
      "execution_count": 73,
      "outputs": [
        {
          "output_type": "execute_result",
          "data": {
            "text/plain": [
              "(614, 6)"
            ]
          },
          "metadata": {},
          "execution_count": 73
        }
      ]
    },
    {
      "cell_type": "code",
      "source": [
        "dt.columns"
      ],
      "metadata": {
        "colab": {
          "base_uri": "https://localhost:8080/"
        },
        "id": "HsENpeqXnIfQ",
        "outputId": "ef87ed79-1b5a-4064-e14e-5ec7a50433e6"
      },
      "execution_count": 74,
      "outputs": [
        {
          "output_type": "execute_result",
          "data": {
            "text/plain": [
              "Index(['ApplicantIncome', 'CoapplicantIncome', 'LoanAmount',\n",
              "       'Loan_Amount_Term', 'Credit_History', 'Loan_Status'],\n",
              "      dtype='object')"
            ]
          },
          "metadata": {},
          "execution_count": 74
        }
      ]
    },
    {
      "cell_type": "code",
      "source": [
        "# count no. of column\n",
        "num_cols = len(dt.columns)\n",
        "print('the no of columns:',num_cols)\n",
        "num_rows = len(dt.index) #index to get the number of rows\n",
        "print('the no of rows:',num_rows)"
      ],
      "metadata": {
        "colab": {
          "base_uri": "https://localhost:8080/"
        },
        "id": "3FA_9p4gnMhG",
        "outputId": "94021fe6-5680-4507-ca18-c4c3b4348f1e"
      },
      "execution_count": 75,
      "outputs": [
        {
          "output_type": "stream",
          "name": "stdout",
          "text": [
            "the no of columns: 6\n",
            "the no of rows: 614\n"
          ]
        }
      ]
    },
    {
      "cell_type": "markdown",
      "source": [
        "**Resumtable :** This function creates a summary table of the dt DataFrame, which includes information like column names, data types, missing values, unique values, and the first two values from each column."
      ],
      "metadata": {
        "id": "Ptme4eA4wdDD"
      }
    },
    {
      "cell_type": "code",
      "source": [
        "def resumetable(df):\n",
        "    print(f\"Dataset Shape: {dt.shape}\")\n",
        "    summary = pd.DataFrame(dt.dtypes,columns=['dtypes'])\n",
        "    summary = summary.reset_index()\n",
        "    summary['Name'] = summary['index']\n",
        "    summary = summary[['Name','dtypes']]\n",
        "    summary['Missing'] = dt.isnull().sum().values\n",
        "    summary['Uniques'] = dt.nunique().values\n",
        "    summary['First Value'] = dt.loc[0].values\n",
        "    summary['Second Value'] = dt.loc[1].values\n",
        "    return summary"
      ],
      "metadata": {
        "id": "KaZjrdhvrTDj"
      },
      "execution_count": 76,
      "outputs": []
    },
    {
      "cell_type": "markdown",
      "source": [],
      "metadata": {
        "id": "CwV_oDH0wb38"
      }
    },
    {
      "cell_type": "code",
      "source": [
        "!ls"
      ],
      "metadata": {
        "colab": {
          "base_uri": "https://localhost:8080/"
        },
        "id": "p9DxLKp9rY-R",
        "outputId": "1a3c487a-164e-4205-f9bc-71e4306ad95c"
      },
      "execution_count": 77,
      "outputs": [
        {
          "output_type": "stream",
          "name": "stdout",
          "text": [
            "catboost_info  sample_data\n"
          ]
        }
      ]
    },
    {
      "cell_type": "code",
      "source": [
        "result = resumetable(dt)\n",
        "result"
      ],
      "metadata": {
        "colab": {
          "base_uri": "https://localhost:8080/",
          "height": 256
        },
        "id": "ZtXAGQQYrduc",
        "outputId": "98f89f8c-2417-43c3-b79d-07796af9ca29"
      },
      "execution_count": 78,
      "outputs": [
        {
          "output_type": "stream",
          "name": "stdout",
          "text": [
            "Dataset Shape: (614, 6)\n"
          ]
        },
        {
          "output_type": "execute_result",
          "data": {
            "text/plain": [
              "                Name   dtypes  Missing  Uniques First Value Second Value\n",
              "0    ApplicantIncome  float64        2      503      5849.0       4583.0\n",
              "1  CoapplicantIncome  float64        2      287         0.0       1508.0\n",
              "2         LoanAmount  float64        3      203         0.0        128.0\n",
              "3   Loan_Amount_Term  float64        2       11       360.0        360.0\n",
              "4     Credit_History   object        0        2         Yes          Yes\n",
              "5        Loan_Status    int64        0        2           1            0"
            ],
            "text/html": [
              "\n",
              "  <div id=\"df-217df60c-bcc5-4e60-8f82-676be8d41ae3\" class=\"colab-df-container\">\n",
              "    <div>\n",
              "<style scoped>\n",
              "    .dataframe tbody tr th:only-of-type {\n",
              "        vertical-align: middle;\n",
              "    }\n",
              "\n",
              "    .dataframe tbody tr th {\n",
              "        vertical-align: top;\n",
              "    }\n",
              "\n",
              "    .dataframe thead th {\n",
              "        text-align: right;\n",
              "    }\n",
              "</style>\n",
              "<table border=\"1\" class=\"dataframe\">\n",
              "  <thead>\n",
              "    <tr style=\"text-align: right;\">\n",
              "      <th></th>\n",
              "      <th>Name</th>\n",
              "      <th>dtypes</th>\n",
              "      <th>Missing</th>\n",
              "      <th>Uniques</th>\n",
              "      <th>First Value</th>\n",
              "      <th>Second Value</th>\n",
              "    </tr>\n",
              "  </thead>\n",
              "  <tbody>\n",
              "    <tr>\n",
              "      <th>0</th>\n",
              "      <td>ApplicantIncome</td>\n",
              "      <td>float64</td>\n",
              "      <td>2</td>\n",
              "      <td>503</td>\n",
              "      <td>5849.0</td>\n",
              "      <td>4583.0</td>\n",
              "    </tr>\n",
              "    <tr>\n",
              "      <th>1</th>\n",
              "      <td>CoapplicantIncome</td>\n",
              "      <td>float64</td>\n",
              "      <td>2</td>\n",
              "      <td>287</td>\n",
              "      <td>0.0</td>\n",
              "      <td>1508.0</td>\n",
              "    </tr>\n",
              "    <tr>\n",
              "      <th>2</th>\n",
              "      <td>LoanAmount</td>\n",
              "      <td>float64</td>\n",
              "      <td>3</td>\n",
              "      <td>203</td>\n",
              "      <td>0.0</td>\n",
              "      <td>128.0</td>\n",
              "    </tr>\n",
              "    <tr>\n",
              "      <th>3</th>\n",
              "      <td>Loan_Amount_Term</td>\n",
              "      <td>float64</td>\n",
              "      <td>2</td>\n",
              "      <td>11</td>\n",
              "      <td>360.0</td>\n",
              "      <td>360.0</td>\n",
              "    </tr>\n",
              "    <tr>\n",
              "      <th>4</th>\n",
              "      <td>Credit_History</td>\n",
              "      <td>object</td>\n",
              "      <td>0</td>\n",
              "      <td>2</td>\n",
              "      <td>Yes</td>\n",
              "      <td>Yes</td>\n",
              "    </tr>\n",
              "    <tr>\n",
              "      <th>5</th>\n",
              "      <td>Loan_Status</td>\n",
              "      <td>int64</td>\n",
              "      <td>0</td>\n",
              "      <td>2</td>\n",
              "      <td>1</td>\n",
              "      <td>0</td>\n",
              "    </tr>\n",
              "  </tbody>\n",
              "</table>\n",
              "</div>\n",
              "    <div class=\"colab-df-buttons\">\n",
              "\n",
              "  <div class=\"colab-df-container\">\n",
              "    <button class=\"colab-df-convert\" onclick=\"convertToInteractive('df-217df60c-bcc5-4e60-8f82-676be8d41ae3')\"\n",
              "            title=\"Convert this dataframe to an interactive table.\"\n",
              "            style=\"display:none;\">\n",
              "\n",
              "  <svg xmlns=\"http://www.w3.org/2000/svg\" height=\"24px\" viewBox=\"0 -960 960 960\">\n",
              "    <path d=\"M120-120v-720h720v720H120Zm60-500h600v-160H180v160Zm220 220h160v-160H400v160Zm0 220h160v-160H400v160ZM180-400h160v-160H180v160Zm440 0h160v-160H620v160ZM180-180h160v-160H180v160Zm440 0h160v-160H620v160Z\"/>\n",
              "  </svg>\n",
              "    </button>\n",
              "\n",
              "  <style>\n",
              "    .colab-df-container {\n",
              "      display:flex;\n",
              "      gap: 12px;\n",
              "    }\n",
              "\n",
              "    .colab-df-convert {\n",
              "      background-color: #E8F0FE;\n",
              "      border: none;\n",
              "      border-radius: 50%;\n",
              "      cursor: pointer;\n",
              "      display: none;\n",
              "      fill: #1967D2;\n",
              "      height: 32px;\n",
              "      padding: 0 0 0 0;\n",
              "      width: 32px;\n",
              "    }\n",
              "\n",
              "    .colab-df-convert:hover {\n",
              "      background-color: #E2EBFA;\n",
              "      box-shadow: 0px 1px 2px rgba(60, 64, 67, 0.3), 0px 1px 3px 1px rgba(60, 64, 67, 0.15);\n",
              "      fill: #174EA6;\n",
              "    }\n",
              "\n",
              "    .colab-df-buttons div {\n",
              "      margin-bottom: 4px;\n",
              "    }\n",
              "\n",
              "    [theme=dark] .colab-df-convert {\n",
              "      background-color: #3B4455;\n",
              "      fill: #D2E3FC;\n",
              "    }\n",
              "\n",
              "    [theme=dark] .colab-df-convert:hover {\n",
              "      background-color: #434B5C;\n",
              "      box-shadow: 0px 1px 3px 1px rgba(0, 0, 0, 0.15);\n",
              "      filter: drop-shadow(0px 1px 2px rgba(0, 0, 0, 0.3));\n",
              "      fill: #FFFFFF;\n",
              "    }\n",
              "  </style>\n",
              "\n",
              "    <script>\n",
              "      const buttonEl =\n",
              "        document.querySelector('#df-217df60c-bcc5-4e60-8f82-676be8d41ae3 button.colab-df-convert');\n",
              "      buttonEl.style.display =\n",
              "        google.colab.kernel.accessAllowed ? 'block' : 'none';\n",
              "\n",
              "      async function convertToInteractive(key) {\n",
              "        const element = document.querySelector('#df-217df60c-bcc5-4e60-8f82-676be8d41ae3');\n",
              "        const dataTable =\n",
              "          await google.colab.kernel.invokeFunction('convertToInteractive',\n",
              "                                                    [key], {});\n",
              "        if (!dataTable) return;\n",
              "\n",
              "        const docLinkHtml = 'Like what you see? Visit the ' +\n",
              "          '<a target=\"_blank\" href=https://colab.research.google.com/notebooks/data_table.ipynb>data table notebook</a>'\n",
              "          + ' to learn more about interactive tables.';\n",
              "        element.innerHTML = '';\n",
              "        dataTable['output_type'] = 'display_data';\n",
              "        await google.colab.output.renderOutput(dataTable, element);\n",
              "        const docLink = document.createElement('div');\n",
              "        docLink.innerHTML = docLinkHtml;\n",
              "        element.appendChild(docLink);\n",
              "      }\n",
              "    </script>\n",
              "  </div>\n",
              "\n",
              "\n",
              "<div id=\"df-610fee93-b00f-4fa0-afb4-8df2ff2e02d9\">\n",
              "  <button class=\"colab-df-quickchart\" onclick=\"quickchart('df-610fee93-b00f-4fa0-afb4-8df2ff2e02d9')\"\n",
              "            title=\"Suggest charts\"\n",
              "            style=\"display:none;\">\n",
              "\n",
              "<svg xmlns=\"http://www.w3.org/2000/svg\" height=\"24px\"viewBox=\"0 0 24 24\"\n",
              "     width=\"24px\">\n",
              "    <g>\n",
              "        <path d=\"M19 3H5c-1.1 0-2 .9-2 2v14c0 1.1.9 2 2 2h14c1.1 0 2-.9 2-2V5c0-1.1-.9-2-2-2zM9 17H7v-7h2v7zm4 0h-2V7h2v10zm4 0h-2v-4h2v4z\"/>\n",
              "    </g>\n",
              "</svg>\n",
              "  </button>\n",
              "\n",
              "<style>\n",
              "  .colab-df-quickchart {\n",
              "      --bg-color: #E8F0FE;\n",
              "      --fill-color: #1967D2;\n",
              "      --hover-bg-color: #E2EBFA;\n",
              "      --hover-fill-color: #174EA6;\n",
              "      --disabled-fill-color: #AAA;\n",
              "      --disabled-bg-color: #DDD;\n",
              "  }\n",
              "\n",
              "  [theme=dark] .colab-df-quickchart {\n",
              "      --bg-color: #3B4455;\n",
              "      --fill-color: #D2E3FC;\n",
              "      --hover-bg-color: #434B5C;\n",
              "      --hover-fill-color: #FFFFFF;\n",
              "      --disabled-bg-color: #3B4455;\n",
              "      --disabled-fill-color: #666;\n",
              "  }\n",
              "\n",
              "  .colab-df-quickchart {\n",
              "    background-color: var(--bg-color);\n",
              "    border: none;\n",
              "    border-radius: 50%;\n",
              "    cursor: pointer;\n",
              "    display: none;\n",
              "    fill: var(--fill-color);\n",
              "    height: 32px;\n",
              "    padding: 0;\n",
              "    width: 32px;\n",
              "  }\n",
              "\n",
              "  .colab-df-quickchart:hover {\n",
              "    background-color: var(--hover-bg-color);\n",
              "    box-shadow: 0 1px 2px rgba(60, 64, 67, 0.3), 0 1px 3px 1px rgba(60, 64, 67, 0.15);\n",
              "    fill: var(--button-hover-fill-color);\n",
              "  }\n",
              "\n",
              "  .colab-df-quickchart-complete:disabled,\n",
              "  .colab-df-quickchart-complete:disabled:hover {\n",
              "    background-color: var(--disabled-bg-color);\n",
              "    fill: var(--disabled-fill-color);\n",
              "    box-shadow: none;\n",
              "  }\n",
              "\n",
              "  .colab-df-spinner {\n",
              "    border: 2px solid var(--fill-color);\n",
              "    border-color: transparent;\n",
              "    border-bottom-color: var(--fill-color);\n",
              "    animation:\n",
              "      spin 1s steps(1) infinite;\n",
              "  }\n",
              "\n",
              "  @keyframes spin {\n",
              "    0% {\n",
              "      border-color: transparent;\n",
              "      border-bottom-color: var(--fill-color);\n",
              "      border-left-color: var(--fill-color);\n",
              "    }\n",
              "    20% {\n",
              "      border-color: transparent;\n",
              "      border-left-color: var(--fill-color);\n",
              "      border-top-color: var(--fill-color);\n",
              "    }\n",
              "    30% {\n",
              "      border-color: transparent;\n",
              "      border-left-color: var(--fill-color);\n",
              "      border-top-color: var(--fill-color);\n",
              "      border-right-color: var(--fill-color);\n",
              "    }\n",
              "    40% {\n",
              "      border-color: transparent;\n",
              "      border-right-color: var(--fill-color);\n",
              "      border-top-color: var(--fill-color);\n",
              "    }\n",
              "    60% {\n",
              "      border-color: transparent;\n",
              "      border-right-color: var(--fill-color);\n",
              "    }\n",
              "    80% {\n",
              "      border-color: transparent;\n",
              "      border-right-color: var(--fill-color);\n",
              "      border-bottom-color: var(--fill-color);\n",
              "    }\n",
              "    90% {\n",
              "      border-color: transparent;\n",
              "      border-bottom-color: var(--fill-color);\n",
              "    }\n",
              "  }\n",
              "</style>\n",
              "\n",
              "  <script>\n",
              "    async function quickchart(key) {\n",
              "      const quickchartButtonEl =\n",
              "        document.querySelector('#' + key + ' button');\n",
              "      quickchartButtonEl.disabled = true;  // To prevent multiple clicks.\n",
              "      quickchartButtonEl.classList.add('colab-df-spinner');\n",
              "      try {\n",
              "        const charts = await google.colab.kernel.invokeFunction(\n",
              "            'suggestCharts', [key], {});\n",
              "      } catch (error) {\n",
              "        console.error('Error during call to suggestCharts:', error);\n",
              "      }\n",
              "      quickchartButtonEl.classList.remove('colab-df-spinner');\n",
              "      quickchartButtonEl.classList.add('colab-df-quickchart-complete');\n",
              "    }\n",
              "    (() => {\n",
              "      let quickchartButtonEl =\n",
              "        document.querySelector('#df-610fee93-b00f-4fa0-afb4-8df2ff2e02d9 button');\n",
              "      quickchartButtonEl.style.display =\n",
              "        google.colab.kernel.accessAllowed ? 'block' : 'none';\n",
              "    })();\n",
              "  </script>\n",
              "</div>\n",
              "\n",
              "  <div id=\"id_3e89bbd8-fa99-487d-bbf8-df3262f068e7\">\n",
              "    <style>\n",
              "      .colab-df-generate {\n",
              "        background-color: #E8F0FE;\n",
              "        border: none;\n",
              "        border-radius: 50%;\n",
              "        cursor: pointer;\n",
              "        display: none;\n",
              "        fill: #1967D2;\n",
              "        height: 32px;\n",
              "        padding: 0 0 0 0;\n",
              "        width: 32px;\n",
              "      }\n",
              "\n",
              "      .colab-df-generate:hover {\n",
              "        background-color: #E2EBFA;\n",
              "        box-shadow: 0px 1px 2px rgba(60, 64, 67, 0.3), 0px 1px 3px 1px rgba(60, 64, 67, 0.15);\n",
              "        fill: #174EA6;\n",
              "      }\n",
              "\n",
              "      [theme=dark] .colab-df-generate {\n",
              "        background-color: #3B4455;\n",
              "        fill: #D2E3FC;\n",
              "      }\n",
              "\n",
              "      [theme=dark] .colab-df-generate:hover {\n",
              "        background-color: #434B5C;\n",
              "        box-shadow: 0px 1px 3px 1px rgba(0, 0, 0, 0.15);\n",
              "        filter: drop-shadow(0px 1px 2px rgba(0, 0, 0, 0.3));\n",
              "        fill: #FFFFFF;\n",
              "      }\n",
              "    </style>\n",
              "    <button class=\"colab-df-generate\" onclick=\"generateWithVariable('result')\"\n",
              "            title=\"Generate code using this dataframe.\"\n",
              "            style=\"display:none;\">\n",
              "\n",
              "  <svg xmlns=\"http://www.w3.org/2000/svg\" height=\"24px\"viewBox=\"0 0 24 24\"\n",
              "       width=\"24px\">\n",
              "    <path d=\"M7,19H8.4L18.45,9,17,7.55,7,17.6ZM5,21V16.75L18.45,3.32a2,2,0,0,1,2.83,0l1.4,1.43a1.91,1.91,0,0,1,.58,1.4,1.91,1.91,0,0,1-.58,1.4L9.25,21ZM18.45,9,17,7.55Zm-12,3A5.31,5.31,0,0,0,4.9,8.1,5.31,5.31,0,0,0,1,6.5,5.31,5.31,0,0,0,4.9,4.9,5.31,5.31,0,0,0,6.5,1,5.31,5.31,0,0,0,8.1,4.9,5.31,5.31,0,0,0,12,6.5,5.46,5.46,0,0,0,6.5,12Z\"/>\n",
              "  </svg>\n",
              "    </button>\n",
              "    <script>\n",
              "      (() => {\n",
              "      const buttonEl =\n",
              "        document.querySelector('#id_3e89bbd8-fa99-487d-bbf8-df3262f068e7 button.colab-df-generate');\n",
              "      buttonEl.style.display =\n",
              "        google.colab.kernel.accessAllowed ? 'block' : 'none';\n",
              "\n",
              "      buttonEl.onclick = () => {\n",
              "        google.colab.notebook.generateWithVariable('result');\n",
              "      }\n",
              "      })();\n",
              "    </script>\n",
              "  </div>\n",
              "\n",
              "    </div>\n",
              "  </div>\n"
            ],
            "application/vnd.google.colaboratory.intrinsic+json": {
              "type": "dataframe",
              "variable_name": "result",
              "summary": "{\n  \"name\": \"result\",\n  \"rows\": 6,\n  \"fields\": [\n    {\n      \"column\": \"Name\",\n      \"properties\": {\n        \"dtype\": \"string\",\n        \"num_unique_values\": 6,\n        \"samples\": [\n          \"ApplicantIncome\",\n          \"CoapplicantIncome\",\n          \"Loan_Status\"\n        ],\n        \"semantic_type\": \"\",\n        \"description\": \"\"\n      }\n    },\n    {\n      \"column\": \"dtypes\",\n      \"properties\": {\n        \"dtype\": \"string\",\n        \"num_unique_values\": 3,\n        \"samples\": [\n          \"float64\",\n          \"object\",\n          \"int64\"\n        ],\n        \"semantic_type\": \"\",\n        \"description\": \"\"\n      }\n    },\n    {\n      \"column\": \"Missing\",\n      \"properties\": {\n        \"dtype\": \"number\",\n        \"std\": 1,\n        \"min\": 0,\n        \"max\": 3,\n        \"num_unique_values\": 3,\n        \"samples\": [\n          2,\n          3,\n          0\n        ],\n        \"semantic_type\": \"\",\n        \"description\": \"\"\n      }\n    },\n    {\n      \"column\": \"Uniques\",\n      \"properties\": {\n        \"dtype\": \"number\",\n        \"std\": 203,\n        \"min\": 2,\n        \"max\": 503,\n        \"num_unique_values\": 5,\n        \"samples\": [\n          287,\n          2,\n          203\n        ],\n        \"semantic_type\": \"\",\n        \"description\": \"\"\n      }\n    },\n    {\n      \"column\": \"First Value\",\n      \"properties\": {\n        \"dtype\": \"string\",\n        \"num_unique_values\": 5,\n        \"samples\": [\n          0.0,\n          \"1\",\n          360.0\n        ],\n        \"semantic_type\": \"\",\n        \"description\": \"\"\n      }\n    },\n    {\n      \"column\": \"Second Value\",\n      \"properties\": {\n        \"dtype\": \"string\",\n        \"num_unique_values\": 6,\n        \"samples\": [\n          4583.0,\n          1508.0,\n          \"0\"\n        ],\n        \"semantic_type\": \"\",\n        \"description\": \"\"\n      }\n    }\n  ]\n}"
            }
          },
          "metadata": {},
          "execution_count": 78
        }
      ]
    },
    {
      "cell_type": "code",
      "source": [
        "target_col = \"Loan_Status\"\n",
        "X = dt.loc[:, dt.columns != target_col]\n",
        "y = dt.loc[:, target_col]\n"
      ],
      "metadata": {
        "id": "15lkaoBGwCMf"
      },
      "execution_count": 79,
      "outputs": []
    },
    {
      "cell_type": "code",
      "source": [
        "X_train, X_test, y_train, y_test = train_test_split(X, y, test_size=0.33, random_state=42)\n",
        ""
      ],
      "metadata": {
        "id": "oObRzfsnw2Pf"
      },
      "execution_count": 80,
      "outputs": []
    },
    {
      "cell_type": "code",
      "source": [
        "X_train.head()"
      ],
      "metadata": {
        "colab": {
          "base_uri": "https://localhost:8080/",
          "height": 226
        },
        "id": "4WGA64Akxe0U",
        "outputId": "e473848e-a6f2-49d1-9990-43e9e0eeeef2"
      },
      "execution_count": 81,
      "outputs": [
        {
          "output_type": "execute_result",
          "data": {
            "text/plain": [
              "     ApplicantIncome  CoapplicantIncome  LoanAmount  Loan_Amount_Term  \\\n",
              "244           3406.0             4417.0       123.0             360.0   \n",
              "393           1993.0             1625.0       113.0             180.0   \n",
              "310           2917.0                0.0        84.0             360.0   \n",
              "408           8300.0                0.0       152.0             300.0   \n",
              "572          16666.0                0.0       275.0             360.0   \n",
              "\n",
              "    Credit_History  \n",
              "244            Yes  \n",
              "393            Yes  \n",
              "310            Yes  \n",
              "408             No  \n",
              "572            Yes  "
            ],
            "text/html": [
              "\n",
              "  <div id=\"df-6c5fbeb8-8a88-4c55-9a99-87060a3ab44a\" class=\"colab-df-container\">\n",
              "    <div>\n",
              "<style scoped>\n",
              "    .dataframe tbody tr th:only-of-type {\n",
              "        vertical-align: middle;\n",
              "    }\n",
              "\n",
              "    .dataframe tbody tr th {\n",
              "        vertical-align: top;\n",
              "    }\n",
              "\n",
              "    .dataframe thead th {\n",
              "        text-align: right;\n",
              "    }\n",
              "</style>\n",
              "<table border=\"1\" class=\"dataframe\">\n",
              "  <thead>\n",
              "    <tr style=\"text-align: right;\">\n",
              "      <th></th>\n",
              "      <th>ApplicantIncome</th>\n",
              "      <th>CoapplicantIncome</th>\n",
              "      <th>LoanAmount</th>\n",
              "      <th>Loan_Amount_Term</th>\n",
              "      <th>Credit_History</th>\n",
              "    </tr>\n",
              "  </thead>\n",
              "  <tbody>\n",
              "    <tr>\n",
              "      <th>244</th>\n",
              "      <td>3406.0</td>\n",
              "      <td>4417.0</td>\n",
              "      <td>123.0</td>\n",
              "      <td>360.0</td>\n",
              "      <td>Yes</td>\n",
              "    </tr>\n",
              "    <tr>\n",
              "      <th>393</th>\n",
              "      <td>1993.0</td>\n",
              "      <td>1625.0</td>\n",
              "      <td>113.0</td>\n",
              "      <td>180.0</td>\n",
              "      <td>Yes</td>\n",
              "    </tr>\n",
              "    <tr>\n",
              "      <th>310</th>\n",
              "      <td>2917.0</td>\n",
              "      <td>0.0</td>\n",
              "      <td>84.0</td>\n",
              "      <td>360.0</td>\n",
              "      <td>Yes</td>\n",
              "    </tr>\n",
              "    <tr>\n",
              "      <th>408</th>\n",
              "      <td>8300.0</td>\n",
              "      <td>0.0</td>\n",
              "      <td>152.0</td>\n",
              "      <td>300.0</td>\n",
              "      <td>No</td>\n",
              "    </tr>\n",
              "    <tr>\n",
              "      <th>572</th>\n",
              "      <td>16666.0</td>\n",
              "      <td>0.0</td>\n",
              "      <td>275.0</td>\n",
              "      <td>360.0</td>\n",
              "      <td>Yes</td>\n",
              "    </tr>\n",
              "  </tbody>\n",
              "</table>\n",
              "</div>\n",
              "    <div class=\"colab-df-buttons\">\n",
              "\n",
              "  <div class=\"colab-df-container\">\n",
              "    <button class=\"colab-df-convert\" onclick=\"convertToInteractive('df-6c5fbeb8-8a88-4c55-9a99-87060a3ab44a')\"\n",
              "            title=\"Convert this dataframe to an interactive table.\"\n",
              "            style=\"display:none;\">\n",
              "\n",
              "  <svg xmlns=\"http://www.w3.org/2000/svg\" height=\"24px\" viewBox=\"0 -960 960 960\">\n",
              "    <path d=\"M120-120v-720h720v720H120Zm60-500h600v-160H180v160Zm220 220h160v-160H400v160Zm0 220h160v-160H400v160ZM180-400h160v-160H180v160Zm440 0h160v-160H620v160ZM180-180h160v-160H180v160Zm440 0h160v-160H620v160Z\"/>\n",
              "  </svg>\n",
              "    </button>\n",
              "\n",
              "  <style>\n",
              "    .colab-df-container {\n",
              "      display:flex;\n",
              "      gap: 12px;\n",
              "    }\n",
              "\n",
              "    .colab-df-convert {\n",
              "      background-color: #E8F0FE;\n",
              "      border: none;\n",
              "      border-radius: 50%;\n",
              "      cursor: pointer;\n",
              "      display: none;\n",
              "      fill: #1967D2;\n",
              "      height: 32px;\n",
              "      padding: 0 0 0 0;\n",
              "      width: 32px;\n",
              "    }\n",
              "\n",
              "    .colab-df-convert:hover {\n",
              "      background-color: #E2EBFA;\n",
              "      box-shadow: 0px 1px 2px rgba(60, 64, 67, 0.3), 0px 1px 3px 1px rgba(60, 64, 67, 0.15);\n",
              "      fill: #174EA6;\n",
              "    }\n",
              "\n",
              "    .colab-df-buttons div {\n",
              "      margin-bottom: 4px;\n",
              "    }\n",
              "\n",
              "    [theme=dark] .colab-df-convert {\n",
              "      background-color: #3B4455;\n",
              "      fill: #D2E3FC;\n",
              "    }\n",
              "\n",
              "    [theme=dark] .colab-df-convert:hover {\n",
              "      background-color: #434B5C;\n",
              "      box-shadow: 0px 1px 3px 1px rgba(0, 0, 0, 0.15);\n",
              "      filter: drop-shadow(0px 1px 2px rgba(0, 0, 0, 0.3));\n",
              "      fill: #FFFFFF;\n",
              "    }\n",
              "  </style>\n",
              "\n",
              "    <script>\n",
              "      const buttonEl =\n",
              "        document.querySelector('#df-6c5fbeb8-8a88-4c55-9a99-87060a3ab44a button.colab-df-convert');\n",
              "      buttonEl.style.display =\n",
              "        google.colab.kernel.accessAllowed ? 'block' : 'none';\n",
              "\n",
              "      async function convertToInteractive(key) {\n",
              "        const element = document.querySelector('#df-6c5fbeb8-8a88-4c55-9a99-87060a3ab44a');\n",
              "        const dataTable =\n",
              "          await google.colab.kernel.invokeFunction('convertToInteractive',\n",
              "                                                    [key], {});\n",
              "        if (!dataTable) return;\n",
              "\n",
              "        const docLinkHtml = 'Like what you see? Visit the ' +\n",
              "          '<a target=\"_blank\" href=https://colab.research.google.com/notebooks/data_table.ipynb>data table notebook</a>'\n",
              "          + ' to learn more about interactive tables.';\n",
              "        element.innerHTML = '';\n",
              "        dataTable['output_type'] = 'display_data';\n",
              "        await google.colab.output.renderOutput(dataTable, element);\n",
              "        const docLink = document.createElement('div');\n",
              "        docLink.innerHTML = docLinkHtml;\n",
              "        element.appendChild(docLink);\n",
              "      }\n",
              "    </script>\n",
              "  </div>\n",
              "\n",
              "\n",
              "<div id=\"df-ba6bb87f-53fc-45be-9919-7c28e31be209\">\n",
              "  <button class=\"colab-df-quickchart\" onclick=\"quickchart('df-ba6bb87f-53fc-45be-9919-7c28e31be209')\"\n",
              "            title=\"Suggest charts\"\n",
              "            style=\"display:none;\">\n",
              "\n",
              "<svg xmlns=\"http://www.w3.org/2000/svg\" height=\"24px\"viewBox=\"0 0 24 24\"\n",
              "     width=\"24px\">\n",
              "    <g>\n",
              "        <path d=\"M19 3H5c-1.1 0-2 .9-2 2v14c0 1.1.9 2 2 2h14c1.1 0 2-.9 2-2V5c0-1.1-.9-2-2-2zM9 17H7v-7h2v7zm4 0h-2V7h2v10zm4 0h-2v-4h2v4z\"/>\n",
              "    </g>\n",
              "</svg>\n",
              "  </button>\n",
              "\n",
              "<style>\n",
              "  .colab-df-quickchart {\n",
              "      --bg-color: #E8F0FE;\n",
              "      --fill-color: #1967D2;\n",
              "      --hover-bg-color: #E2EBFA;\n",
              "      --hover-fill-color: #174EA6;\n",
              "      --disabled-fill-color: #AAA;\n",
              "      --disabled-bg-color: #DDD;\n",
              "  }\n",
              "\n",
              "  [theme=dark] .colab-df-quickchart {\n",
              "      --bg-color: #3B4455;\n",
              "      --fill-color: #D2E3FC;\n",
              "      --hover-bg-color: #434B5C;\n",
              "      --hover-fill-color: #FFFFFF;\n",
              "      --disabled-bg-color: #3B4455;\n",
              "      --disabled-fill-color: #666;\n",
              "  }\n",
              "\n",
              "  .colab-df-quickchart {\n",
              "    background-color: var(--bg-color);\n",
              "    border: none;\n",
              "    border-radius: 50%;\n",
              "    cursor: pointer;\n",
              "    display: none;\n",
              "    fill: var(--fill-color);\n",
              "    height: 32px;\n",
              "    padding: 0;\n",
              "    width: 32px;\n",
              "  }\n",
              "\n",
              "  .colab-df-quickchart:hover {\n",
              "    background-color: var(--hover-bg-color);\n",
              "    box-shadow: 0 1px 2px rgba(60, 64, 67, 0.3), 0 1px 3px 1px rgba(60, 64, 67, 0.15);\n",
              "    fill: var(--button-hover-fill-color);\n",
              "  }\n",
              "\n",
              "  .colab-df-quickchart-complete:disabled,\n",
              "  .colab-df-quickchart-complete:disabled:hover {\n",
              "    background-color: var(--disabled-bg-color);\n",
              "    fill: var(--disabled-fill-color);\n",
              "    box-shadow: none;\n",
              "  }\n",
              "\n",
              "  .colab-df-spinner {\n",
              "    border: 2px solid var(--fill-color);\n",
              "    border-color: transparent;\n",
              "    border-bottom-color: var(--fill-color);\n",
              "    animation:\n",
              "      spin 1s steps(1) infinite;\n",
              "  }\n",
              "\n",
              "  @keyframes spin {\n",
              "    0% {\n",
              "      border-color: transparent;\n",
              "      border-bottom-color: var(--fill-color);\n",
              "      border-left-color: var(--fill-color);\n",
              "    }\n",
              "    20% {\n",
              "      border-color: transparent;\n",
              "      border-left-color: var(--fill-color);\n",
              "      border-top-color: var(--fill-color);\n",
              "    }\n",
              "    30% {\n",
              "      border-color: transparent;\n",
              "      border-left-color: var(--fill-color);\n",
              "      border-top-color: var(--fill-color);\n",
              "      border-right-color: var(--fill-color);\n",
              "    }\n",
              "    40% {\n",
              "      border-color: transparent;\n",
              "      border-right-color: var(--fill-color);\n",
              "      border-top-color: var(--fill-color);\n",
              "    }\n",
              "    60% {\n",
              "      border-color: transparent;\n",
              "      border-right-color: var(--fill-color);\n",
              "    }\n",
              "    80% {\n",
              "      border-color: transparent;\n",
              "      border-right-color: var(--fill-color);\n",
              "      border-bottom-color: var(--fill-color);\n",
              "    }\n",
              "    90% {\n",
              "      border-color: transparent;\n",
              "      border-bottom-color: var(--fill-color);\n",
              "    }\n",
              "  }\n",
              "</style>\n",
              "\n",
              "  <script>\n",
              "    async function quickchart(key) {\n",
              "      const quickchartButtonEl =\n",
              "        document.querySelector('#' + key + ' button');\n",
              "      quickchartButtonEl.disabled = true;  // To prevent multiple clicks.\n",
              "      quickchartButtonEl.classList.add('colab-df-spinner');\n",
              "      try {\n",
              "        const charts = await google.colab.kernel.invokeFunction(\n",
              "            'suggestCharts', [key], {});\n",
              "      } catch (error) {\n",
              "        console.error('Error during call to suggestCharts:', error);\n",
              "      }\n",
              "      quickchartButtonEl.classList.remove('colab-df-spinner');\n",
              "      quickchartButtonEl.classList.add('colab-df-quickchart-complete');\n",
              "    }\n",
              "    (() => {\n",
              "      let quickchartButtonEl =\n",
              "        document.querySelector('#df-ba6bb87f-53fc-45be-9919-7c28e31be209 button');\n",
              "      quickchartButtonEl.style.display =\n",
              "        google.colab.kernel.accessAllowed ? 'block' : 'none';\n",
              "    })();\n",
              "  </script>\n",
              "</div>\n",
              "\n",
              "    </div>\n",
              "  </div>\n"
            ],
            "application/vnd.google.colaboratory.intrinsic+json": {
              "type": "dataframe",
              "variable_name": "X_train",
              "summary": "{\n  \"name\": \"X_train\",\n  \"rows\": 411,\n  \"fields\": [\n    {\n      \"column\": \"ApplicantIncome\",\n      \"properties\": {\n        \"dtype\": \"number\",\n        \"std\": 6117.65411307651,\n        \"min\": 150.0,\n        \"max\": 81000.0,\n        \"num_unique_values\": 358,\n        \"samples\": [\n          4691.0,\n          4000.0,\n          3033.0\n        ],\n        \"semantic_type\": \"\",\n        \"description\": \"\"\n      }\n    },\n    {\n      \"column\": \"CoapplicantIncome\",\n      \"properties\": {\n        \"dtype\": \"number\",\n        \"std\": 2718.1478172826696,\n        \"min\": 0.0,\n        \"max\": 33837.0,\n        \"num_unique_values\": 200,\n        \"samples\": [\n          8980.0,\n          2917.0,\n          4333.0\n        ],\n        \"semantic_type\": \"\",\n        \"description\": \"\"\n      }\n    },\n    {\n      \"column\": \"LoanAmount\",\n      \"properties\": {\n        \"dtype\": \"number\",\n        \"std\": 90.22256579198643,\n        \"min\": 0.0,\n        \"max\": 700.0,\n        \"num_unique_values\": 160,\n        \"samples\": [\n          405.0,\n          93.0,\n          253.0\n        ],\n        \"semantic_type\": \"\",\n        \"description\": \"\"\n      }\n    },\n    {\n      \"column\": \"Loan_Amount_Term\",\n      \"properties\": {\n        \"dtype\": \"number\",\n        \"std\": 87.35620221119024,\n        \"min\": 0.0,\n        \"max\": 480.0,\n        \"num_unique_values\": 11,\n        \"samples\": [\n          120.0,\n          360.0,\n          60.0\n        ],\n        \"semantic_type\": \"\",\n        \"description\": \"\"\n      }\n    },\n    {\n      \"column\": \"Credit_History\",\n      \"properties\": {\n        \"dtype\": \"category\",\n        \"num_unique_values\": 2,\n        \"samples\": [\n          \"No\",\n          \"Yes\"\n        ],\n        \"semantic_type\": \"\",\n        \"description\": \"\"\n      }\n    }\n  ]\n}"
            }
          },
          "metadata": {},
          "execution_count": 81
        }
      ]
    },
    {
      "cell_type": "code",
      "source": [
        "features = list(X_train.columns)"
      ],
      "metadata": {
        "id": "hFLqCHbQ0xRP"
      },
      "execution_count": 82,
      "outputs": []
    },
    {
      "cell_type": "code",
      "source": [
        "cat_features = [\"Credit_History\"]\n",
        ""
      ],
      "metadata": {
        "id": "WfmfqJt11NXF"
      },
      "execution_count": 83,
      "outputs": []
    },
    {
      "cell_type": "code",
      "source": [
        "# import the CatBoostClassifier class from the catboost library\n",
        "from catboost import CatBoostClassifier\n",
        "model_cb = CatBoostClassifier(task_type='CPU', iterations=100,\n",
        "                              random_state = 2021,\n",
        "                              eval_metric=\"F1\")"
      ],
      "metadata": {
        "id": "0W1OVN2Y1od8"
      },
      "execution_count": 84,
      "outputs": []
    },
    {
      "cell_type": "code",
      "source": [
        "\n",
        "\n",
        "\n",
        "\n",
        "model_cb.fit(X_train, y_train,\n",
        "             cat_features=cat_features,\n",
        "             plot=True,\n",
        "             eval_set=(X_test, y_test))\n"
      ],
      "metadata": {
        "colab": {
          "base_uri": "https://localhost:8080/",
          "height": 1000,
          "referenced_widgets": [
            "a6b3e6442a6d4ad4a71735baa2949946"
          ]
        },
        "id": "3IFqp1CW6bdo",
        "outputId": "e30b9bd2-f746-4869-c041-270c3056cad5"
      },
      "execution_count": 85,
      "outputs": [
        {
          "output_type": "display_data",
          "data": {
            "text/plain": [
              "MetricVisualizer(layout=Layout(align_self='stretch', height='500px'))"
            ],
            "application/vnd.jupyter.widget-view+json": {
              "version_major": 2,
              "version_minor": 0,
              "model_id": "a6b3e6442a6d4ad4a71735baa2949946"
            }
          },
          "metadata": {}
        },
        {
          "output_type": "stream",
          "name": "stdout",
          "text": [
            "Learning rate set to 0.069267\n",
            "0:\tlearn: 0.8427877\ttest: 0.8428571\tbest: 0.8428571 (0)\ttotal: 573us\tremaining: 56.8ms\n",
            "1:\tlearn: 0.8427877\ttest: 0.8428571\tbest: 0.8428571 (0)\ttotal: 1.54ms\tremaining: 75.7ms\n",
            "2:\tlearn: 0.8427877\ttest: 0.8428571\tbest: 0.8428571 (0)\ttotal: 2.77ms\tremaining: 89.6ms\n",
            "3:\tlearn: 0.8427877\ttest: 0.8428571\tbest: 0.8428571 (0)\ttotal: 3.88ms\tremaining: 93.1ms\n",
            "4:\tlearn: 0.8427877\ttest: 0.8428571\tbest: 0.8428571 (0)\ttotal: 4.98ms\tremaining: 94.6ms\n",
            "5:\tlearn: 0.8427877\ttest: 0.8428571\tbest: 0.8428571 (0)\ttotal: 5.66ms\tremaining: 88.7ms\n",
            "6:\tlearn: 0.8427877\ttest: 0.8428571\tbest: 0.8428571 (0)\ttotal: 6.73ms\tremaining: 89.4ms\n",
            "7:\tlearn: 0.8427877\ttest: 0.8428571\tbest: 0.8428571 (0)\ttotal: 7.91ms\tremaining: 90.9ms\n",
            "8:\tlearn: 0.8427877\ttest: 0.8428571\tbest: 0.8428571 (0)\ttotal: 8.68ms\tremaining: 87.7ms\n",
            "9:\tlearn: 0.8427877\ttest: 0.8428571\tbest: 0.8428571 (0)\ttotal: 10.3ms\tremaining: 93.1ms\n",
            "10:\tlearn: 0.8427877\ttest: 0.8428571\tbest: 0.8428571 (0)\ttotal: 11.4ms\tremaining: 92.5ms\n",
            "11:\tlearn: 0.8446602\ttest: 0.8428571\tbest: 0.8428571 (0)\ttotal: 12.6ms\tremaining: 92ms\n",
            "12:\tlearn: 0.8446602\ttest: 0.8398577\tbest: 0.8428571 (0)\ttotal: 13.6ms\tremaining: 91.3ms\n",
            "13:\tlearn: 0.8446602\ttest: 0.8428571\tbest: 0.8428571 (0)\ttotal: 14.7ms\tremaining: 90.3ms\n",
            "14:\tlearn: 0.8446602\ttest: 0.8428571\tbest: 0.8428571 (0)\ttotal: 18.2ms\tremaining: 103ms\n",
            "15:\tlearn: 0.8446602\ttest: 0.8398577\tbest: 0.8428571 (0)\ttotal: 19.5ms\tremaining: 102ms\n",
            "16:\tlearn: 0.8446602\ttest: 0.8398577\tbest: 0.8428571 (0)\ttotal: 21ms\tremaining: 103ms\n",
            "17:\tlearn: 0.8446602\ttest: 0.8398577\tbest: 0.8428571 (0)\ttotal: 21.9ms\tremaining: 99.9ms\n",
            "18:\tlearn: 0.8465267\ttest: 0.8398577\tbest: 0.8428571 (0)\ttotal: 22.9ms\tremaining: 97.6ms\n",
            "19:\tlearn: 0.8446602\ttest: 0.8398577\tbest: 0.8428571 (0)\ttotal: 23.2ms\tremaining: 92.6ms\n",
            "20:\tlearn: 0.8465267\ttest: 0.8398577\tbest: 0.8428571 (0)\ttotal: 24.3ms\tremaining: 91.4ms\n",
            "21:\tlearn: 0.8483871\ttest: 0.8398577\tbest: 0.8428571 (0)\ttotal: 25.7ms\tremaining: 91ms\n",
            "22:\tlearn: 0.8483871\ttest: 0.8368794\tbest: 0.8428571 (0)\ttotal: 26.9ms\tremaining: 89.9ms\n",
            "23:\tlearn: 0.8483871\ttest: 0.8368794\tbest: 0.8428571 (0)\ttotal: 27.8ms\tremaining: 88.1ms\n",
            "24:\tlearn: 0.8483871\ttest: 0.8368794\tbest: 0.8428571 (0)\ttotal: 28.9ms\tremaining: 86.8ms\n",
            "25:\tlearn: 0.8483871\ttest: 0.8368794\tbest: 0.8428571 (0)\ttotal: 30ms\tremaining: 85.5ms\n",
            "26:\tlearn: 0.8502415\ttest: 0.8368794\tbest: 0.8428571 (0)\ttotal: 31.2ms\tremaining: 84.2ms\n",
            "27:\tlearn: 0.8502415\ttest: 0.8368794\tbest: 0.8428571 (0)\ttotal: 32.4ms\tremaining: 83.3ms\n",
            "28:\tlearn: 0.8502415\ttest: 0.8368794\tbest: 0.8428571 (0)\ttotal: 33.8ms\tremaining: 82.8ms\n",
            "29:\tlearn: 0.8520900\ttest: 0.8368794\tbest: 0.8428571 (0)\ttotal: 35.5ms\tremaining: 82.9ms\n",
            "30:\tlearn: 0.8502415\ttest: 0.8368794\tbest: 0.8428571 (0)\ttotal: 37.7ms\tremaining: 83.8ms\n",
            "31:\tlearn: 0.8520900\ttest: 0.8368794\tbest: 0.8428571 (0)\ttotal: 39.6ms\tremaining: 84.2ms\n",
            "32:\tlearn: 0.8539326\ttest: 0.8368794\tbest: 0.8428571 (0)\ttotal: 41.3ms\tremaining: 83.9ms\n",
            "33:\tlearn: 0.8520900\ttest: 0.8339223\tbest: 0.8428571 (0)\ttotal: 42.2ms\tremaining: 81.9ms\n",
            "34:\tlearn: 0.8539326\ttest: 0.8309859\tbest: 0.8428571 (0)\ttotal: 43ms\tremaining: 79.8ms\n",
            "35:\tlearn: 0.8539326\ttest: 0.8309859\tbest: 0.8428571 (0)\ttotal: 43.6ms\tremaining: 77.6ms\n",
            "36:\tlearn: 0.8539326\ttest: 0.8309859\tbest: 0.8428571 (0)\ttotal: 44.5ms\tremaining: 75.7ms\n",
            "37:\tlearn: 0.8539326\ttest: 0.8309859\tbest: 0.8428571 (0)\ttotal: 45.4ms\tremaining: 74ms\n",
            "38:\tlearn: 0.8520900\ttest: 0.8309859\tbest: 0.8428571 (0)\ttotal: 46.1ms\tremaining: 72.1ms\n",
            "39:\tlearn: 0.8520900\ttest: 0.8309859\tbest: 0.8428571 (0)\ttotal: 47.3ms\tremaining: 71ms\n",
            "40:\tlearn: 0.8520900\ttest: 0.8309859\tbest: 0.8428571 (0)\ttotal: 48.2ms\tremaining: 69.3ms\n",
            "41:\tlearn: 0.8520900\ttest: 0.8309859\tbest: 0.8428571 (0)\ttotal: 49.1ms\tremaining: 67.7ms\n",
            "42:\tlearn: 0.8539326\ttest: 0.8309859\tbest: 0.8428571 (0)\ttotal: 50.1ms\tremaining: 66.4ms\n",
            "43:\tlearn: 0.8539326\ttest: 0.8309859\tbest: 0.8428571 (0)\ttotal: 52.6ms\tremaining: 67ms\n",
            "44:\tlearn: 0.8539326\ttest: 0.8309859\tbest: 0.8428571 (0)\ttotal: 53.9ms\tremaining: 65.9ms\n",
            "45:\tlearn: 0.8557692\ttest: 0.8309859\tbest: 0.8428571 (0)\ttotal: 55.3ms\tremaining: 65ms\n",
            "46:\tlearn: 0.8557692\ttest: 0.8309859\tbest: 0.8428571 (0)\ttotal: 56.4ms\tremaining: 63.7ms\n",
            "47:\tlearn: 0.8557692\ttest: 0.8309859\tbest: 0.8428571 (0)\ttotal: 57.3ms\tremaining: 62.1ms\n",
            "48:\tlearn: 0.8557692\ttest: 0.8309859\tbest: 0.8428571 (0)\ttotal: 58.2ms\tremaining: 60.5ms\n",
            "49:\tlearn: 0.8557692\ttest: 0.8309859\tbest: 0.8428571 (0)\ttotal: 59ms\tremaining: 59ms\n",
            "50:\tlearn: 0.8576000\ttest: 0.8309859\tbest: 0.8428571 (0)\ttotal: 59.8ms\tremaining: 57.5ms\n",
            "51:\tlearn: 0.8576000\ttest: 0.8309859\tbest: 0.8428571 (0)\ttotal: 60.9ms\tremaining: 56.2ms\n",
            "52:\tlearn: 0.8576000\ttest: 0.8309859\tbest: 0.8428571 (0)\ttotal: 62ms\tremaining: 54.9ms\n",
            "53:\tlearn: 0.8557692\ttest: 0.8309859\tbest: 0.8428571 (0)\ttotal: 63.3ms\tremaining: 53.9ms\n",
            "54:\tlearn: 0.8576000\ttest: 0.8309859\tbest: 0.8428571 (0)\ttotal: 64.4ms\tremaining: 52.7ms\n",
            "55:\tlearn: 0.8576000\ttest: 0.8309859\tbest: 0.8428571 (0)\ttotal: 65.5ms\tremaining: 51.5ms\n",
            "56:\tlearn: 0.8576000\ttest: 0.8280702\tbest: 0.8428571 (0)\ttotal: 66.7ms\tremaining: 50.3ms\n",
            "57:\tlearn: 0.8576000\ttest: 0.8280702\tbest: 0.8428571 (0)\ttotal: 67.4ms\tremaining: 48.8ms\n",
            "58:\tlearn: 0.8576000\ttest: 0.8280702\tbest: 0.8428571 (0)\ttotal: 68.5ms\tremaining: 47.6ms\n",
            "59:\tlearn: 0.8576000\ttest: 0.8309859\tbest: 0.8428571 (0)\ttotal: 69.6ms\tremaining: 46.4ms\n",
            "60:\tlearn: 0.8576000\ttest: 0.8309859\tbest: 0.8428571 (0)\ttotal: 70.7ms\tremaining: 45.2ms\n",
            "61:\tlearn: 0.8576000\ttest: 0.8309859\tbest: 0.8428571 (0)\ttotal: 71.7ms\tremaining: 44ms\n",
            "62:\tlearn: 0.8576000\ttest: 0.8309859\tbest: 0.8428571 (0)\ttotal: 72.4ms\tremaining: 42.5ms\n",
            "63:\tlearn: 0.8576000\ttest: 0.8251748\tbest: 0.8428571 (0)\ttotal: 73.5ms\tremaining: 41.3ms\n",
            "64:\tlearn: 0.8594249\ttest: 0.8280702\tbest: 0.8428571 (0)\ttotal: 74.6ms\tremaining: 40.2ms\n",
            "65:\tlearn: 0.8594249\ttest: 0.8280702\tbest: 0.8428571 (0)\ttotal: 75.8ms\tremaining: 39ms\n",
            "66:\tlearn: 0.8594249\ttest: 0.8280702\tbest: 0.8428571 (0)\ttotal: 76.7ms\tremaining: 37.8ms\n",
            "67:\tlearn: 0.8612440\ttest: 0.8280702\tbest: 0.8428571 (0)\ttotal: 80.2ms\tremaining: 37.7ms\n",
            "68:\tlearn: 0.8608000\ttest: 0.8280702\tbest: 0.8428571 (0)\ttotal: 81.6ms\tremaining: 36.6ms\n",
            "69:\tlearn: 0.8608000\ttest: 0.8280702\tbest: 0.8428571 (0)\ttotal: 82.9ms\tremaining: 35.5ms\n",
            "70:\tlearn: 0.8608000\ttest: 0.8280702\tbest: 0.8428571 (0)\ttotal: 84ms\tremaining: 34.3ms\n",
            "71:\tlearn: 0.8640000\ttest: 0.8280702\tbest: 0.8428571 (0)\ttotal: 85.2ms\tremaining: 33.1ms\n",
            "72:\tlearn: 0.8621795\ttest: 0.8280702\tbest: 0.8428571 (0)\ttotal: 86.4ms\tremaining: 32ms\n",
            "73:\tlearn: 0.8621795\ttest: 0.8280702\tbest: 0.8428571 (0)\ttotal: 87.5ms\tremaining: 30.8ms\n",
            "74:\tlearn: 0.8603531\ttest: 0.8280702\tbest: 0.8428571 (0)\ttotal: 88.4ms\tremaining: 29.5ms\n",
            "75:\tlearn: 0.8640000\ttest: 0.8280702\tbest: 0.8428571 (0)\ttotal: 89.3ms\tremaining: 28.2ms\n",
            "76:\tlearn: 0.8640000\ttest: 0.8280702\tbest: 0.8428571 (0)\ttotal: 90.1ms\tremaining: 26.9ms\n",
            "77:\tlearn: 0.8640000\ttest: 0.8280702\tbest: 0.8428571 (0)\ttotal: 90.7ms\tremaining: 25.6ms\n",
            "78:\tlearn: 0.8621795\ttest: 0.8251748\tbest: 0.8428571 (0)\ttotal: 91.8ms\tremaining: 24.4ms\n",
            "79:\tlearn: 0.8640000\ttest: 0.8251748\tbest: 0.8428571 (0)\ttotal: 93ms\tremaining: 23.2ms\n",
            "80:\tlearn: 0.8640000\ttest: 0.8251748\tbest: 0.8428571 (0)\ttotal: 94ms\tremaining: 22.1ms\n",
            "81:\tlearn: 0.8640000\ttest: 0.8251748\tbest: 0.8428571 (0)\ttotal: 94.7ms\tremaining: 20.8ms\n",
            "82:\tlearn: 0.8640000\ttest: 0.8251748\tbest: 0.8428571 (0)\ttotal: 95.8ms\tremaining: 19.6ms\n",
            "83:\tlearn: 0.8640000\ttest: 0.8251748\tbest: 0.8428571 (0)\ttotal: 96.9ms\tremaining: 18.4ms\n",
            "84:\tlearn: 0.8640000\ttest: 0.8251748\tbest: 0.8428571 (0)\ttotal: 97.9ms\tremaining: 17.3ms\n",
            "85:\tlearn: 0.8640000\ttest: 0.8251748\tbest: 0.8428571 (0)\ttotal: 99ms\tremaining: 16.1ms\n",
            "86:\tlearn: 0.8640000\ttest: 0.8251748\tbest: 0.8428571 (0)\ttotal: 100ms\tremaining: 15ms\n",
            "87:\tlearn: 0.8653846\ttest: 0.8251748\tbest: 0.8428571 (0)\ttotal: 101ms\tremaining: 13.8ms\n",
            "88:\tlearn: 0.8653846\ttest: 0.8251748\tbest: 0.8428571 (0)\ttotal: 102ms\tremaining: 12.6ms\n",
            "89:\tlearn: 0.8640000\ttest: 0.8251748\tbest: 0.8428571 (0)\ttotal: 103ms\tremaining: 11.5ms\n",
            "90:\tlearn: 0.8653846\ttest: 0.8251748\tbest: 0.8428571 (0)\ttotal: 104ms\tremaining: 10.3ms\n",
            "91:\tlearn: 0.8653846\ttest: 0.8251748\tbest: 0.8428571 (0)\ttotal: 105ms\tremaining: 9.14ms\n",
            "92:\tlearn: 0.8653846\ttest: 0.8251748\tbest: 0.8428571 (0)\ttotal: 106ms\tremaining: 7.97ms\n",
            "93:\tlearn: 0.8653846\ttest: 0.8251748\tbest: 0.8428571 (0)\ttotal: 107ms\tremaining: 6.83ms\n",
            "94:\tlearn: 0.8653846\ttest: 0.8251748\tbest: 0.8428571 (0)\ttotal: 108ms\tremaining: 5.69ms\n",
            "95:\tlearn: 0.8653846\ttest: 0.8251748\tbest: 0.8428571 (0)\ttotal: 109ms\tremaining: 4.55ms\n",
            "96:\tlearn: 0.8653846\ttest: 0.8251748\tbest: 0.8428571 (0)\ttotal: 110ms\tremaining: 3.41ms\n",
            "97:\tlearn: 0.8672000\ttest: 0.8251748\tbest: 0.8428571 (0)\ttotal: 112ms\tremaining: 2.28ms\n",
            "98:\tlearn: 0.8658147\ttest: 0.8251748\tbest: 0.8428571 (0)\ttotal: 113ms\tremaining: 1.14ms\n",
            "99:\tlearn: 0.8672000\ttest: 0.8251748\tbest: 0.8428571 (0)\ttotal: 114ms\tremaining: 0us\n",
            "\n",
            "bestTest = 0.8428571429\n",
            "bestIteration = 0\n",
            "\n",
            "Shrink model to first 1 iterations.\n"
          ]
        },
        {
          "output_type": "execute_result",
          "data": {
            "text/plain": [
              "<catboost.core.CatBoostClassifier at 0x7c8235579390>"
            ]
          },
          "metadata": {},
          "execution_count": 85
        }
      ]
    },
    {
      "cell_type": "code",
      "source": [
        "\n",
        "y_pred = model_cb.predict(X_test)"
      ],
      "metadata": {
        "id": "NW4qeUb3--Nm"
      },
      "execution_count": 86,
      "outputs": []
    },
    {
      "cell_type": "code",
      "source": [
        "# import the f1_score function from the sklearn.metrics module\n",
        "from sklearn.metrics import f1_score\n",
        "\n",
        "f1_score(y_test, y_pred)"
      ],
      "metadata": {
        "colab": {
          "base_uri": "https://localhost:8080/"
        },
        "id": "lowqON6N_UO4",
        "outputId": "8fbbd7b2-d6a0-4ffa-8363-d0b2b05a107f"
      },
      "execution_count": 87,
      "outputs": [
        {
          "output_type": "execute_result",
          "data": {
            "text/plain": [
              "0.8428571428571427"
            ]
          },
          "metadata": {},
          "execution_count": 87
        }
      ]
    },
    {
      "cell_type": "code",
      "source": [
        "\n",
        "accuracy_score(y_test, y_pred)"
      ],
      "metadata": {
        "colab": {
          "base_uri": "https://localhost:8080/"
        },
        "id": "NBQuKDns_W84",
        "outputId": "d8213184-4099-427d-d825-1acbccfad391"
      },
      "execution_count": 88,
      "outputs": [
        {
          "output_type": "execute_result",
          "data": {
            "text/plain": [
              "0.7832512315270936"
            ]
          },
          "metadata": {},
          "execution_count": 88
        }
      ]
    },
    {
      "cell_type": "code",
      "source": [],
      "metadata": {
        "id": "aUpxmq2g_wA8"
      },
      "execution_count": 88,
      "outputs": []
    }
  ]
}