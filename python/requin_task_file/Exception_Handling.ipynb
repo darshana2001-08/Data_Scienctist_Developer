{
  "nbformat": 4,
  "nbformat_minor": 0,
  "metadata": {
    "colab": {
      "provenance": []
    },
    "kernelspec": {
      "name": "python3",
      "display_name": "Python 3"
    },
    "language_info": {
      "name": "python"
    }
  },
  "cells": [
    {
      "cell_type": "code",
      "execution_count": 1,
      "metadata": {
        "colab": {
          "base_uri": "https://localhost:8080/"
        },
        "id": "4ut_dEEjQ3uU",
        "outputId": "3326efeb-9c41-40a9-a522-71c9ca790e70"
      },
      "outputs": [
        {
          "output_type": "stream",
          "name": "stdout",
          "text": [
            "enter the first number:2\n",
            "enter the second number:0\n",
            " no should not divide by 0\n"
          ]
        }
      ],
      "source": [
        "\n",
        "a=int(input(\"enter the first number:\"))\n",
        "b=int(input(\"enter the second number:\"))\n",
        "try:\n",
        "  c=a/b\n",
        "  print(\"Result of a/b\", c)\n",
        "except:\n",
        "  print(\" no should not divide by 0\")\n",
        "else:\n",
        "  print(\"successfully excuted\")\n"
      ]
    },
    {
      "cell_type": "markdown",
      "source": [
        "# destructor"
      ],
      "metadata": {
        "id": "DgXyZyIhcn5Q"
      }
    },
    {
      "cell_type": "code",
      "source": [
        "class abc:\n",
        "  def __init__(self):\n",
        "    print(\"constructor method\")\n",
        "  def normal(self):\n",
        "    print(\"this is normal function\")\n",
        "  def __del__(self):\n",
        "    print(\"_________________________\")\n",
        "    print(\"destructor method\")\n",
        "    print(\"object deleted\")\n",
        "obj=abc()\n",
        "obj.normal()\n",
        "del obj\n",
        "\n"
      ],
      "metadata": {
        "colab": {
          "base_uri": "https://localhost:8080/"
        },
        "id": "_FC9kKDhSjwQ",
        "outputId": "ab5aaab9-47c2-47f9-f19f-ee696d98cce1"
      },
      "execution_count": 2,
      "outputs": [
        {
          "output_type": "stream",
          "name": "stdout",
          "text": [
            "constructor method\n",
            "this is normal function\n",
            "_________________________\n",
            "destructor method\n",
            "object deleted\n"
          ]
        }
      ]
    },
    {
      "cell_type": "markdown",
      "source": [
        "#Bubble Sort"
      ],
      "metadata": {
        "id": "0wE38-nKhS8b"
      }
    },
    {
      "cell_type": "code",
      "source": [
        "import random\n",
        "def bubble_sort(r):\n",
        "    n = len(r)\n",
        "\n",
        "    for i in range(n):\n",
        "\n",
        "        for j in range(0, n - i - 1):\n",
        "\n",
        "            if r[j] > r[j + 1]:\n",
        "                r[j], r[j + 1] = r[j + 1], r[j]\n",
        "    return r\n",
        "\n",
        "\n",
        "r = [random.randint(1, 100) for _ in range(50)]\n",
        "print(\"Random cartoon rating:\\n\",r)\n",
        "\n",
        "obj = bubble_sort(r)\n",
        "print(\"Sorted ratings:\\n\", obj)\n",
        "\n",
        "\n"
      ],
      "metadata": {
        "colab": {
          "base_uri": "https://localhost:8080/"
        },
        "id": "B9WNOzMydza8",
        "outputId": "a0b5c02a-eec2-4759-c9ed-0d971304ad62"
      },
      "execution_count": 3,
      "outputs": [
        {
          "output_type": "stream",
          "name": "stdout",
          "text": [
            "Random cartoon rating:\n",
            " [46, 22, 63, 44, 62, 33, 28, 12, 54, 30, 28, 13, 91, 61, 14, 50, 5, 72, 51, 31, 76, 7, 24, 39, 3, 98, 94, 25, 93, 89, 24, 33, 45, 42, 3, 51, 44, 88, 60, 9, 56, 68, 35, 94, 49, 48, 80, 43, 44, 36]\n",
            "Sorted ratings:\n",
            " [3, 3, 5, 7, 9, 12, 13, 14, 22, 24, 24, 25, 28, 28, 30, 31, 33, 33, 35, 36, 39, 42, 43, 44, 44, 44, 45, 46, 48, 49, 50, 51, 51, 54, 56, 60, 61, 62, 63, 68, 72, 76, 80, 88, 89, 91, 93, 94, 94, 98]\n"
          ]
        }
      ]
    },
    {
      "cell_type": "code",
      "source": [],
      "metadata": {
        "id": "Ggfg7WTCREt7"
      },
      "execution_count": null,
      "outputs": []
    },
    {
      "cell_type": "code",
      "source": [],
      "metadata": {
        "id": "DGwA3I_bngq8"
      },
      "execution_count": 3,
      "outputs": []
    }
  ]
}